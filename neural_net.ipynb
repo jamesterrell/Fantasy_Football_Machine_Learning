{
 "cells": [
  {
   "cell_type": "code",
   "execution_count": 1,
   "metadata": {},
   "outputs": [
    {
     "name": "stderr",
     "output_type": "stream",
     "text": [
      "c:\\Users\\terre\\miniconda3\\envs\\ff_env\\Lib\\site-packages\\tqdm\\auto.py:21: TqdmWarning: IProgress not found. Please update jupyter and ipywidgets. See https://ipywidgets.readthedocs.io/en/stable/user_install.html\n",
      "  from .autonotebook import tqdm as notebook_tqdm\n"
     ]
    },
    {
     "name": "stdout",
     "output_type": "stream",
     "text": [
      "skforecast version: 0.14.0\n",
      "keras version: 3.8.0\n",
      "Using backend: torch\n",
      "torch version: 2.5.1+cpu\n"
     ]
    }
   ],
   "source": [
    "# Libraries\n",
    "# ==============================================================================\n",
    "import os\n",
    "os.environ[\"KERAS_BACKEND\"] = \"torch\"  # 'tensorflow', 'jax´ or 'torch'\n",
    "import keras\n",
    "\n",
    "import numpy as np\n",
    "import pandas as pd\n",
    "import matplotlib.pyplot as plt\n",
    "from sklearn.preprocessing import MinMaxScaler\n",
    "\n",
    "import skforecast\n",
    "from skforecast.plot import set_dark_theme\n",
    "from skforecast.datasets import fetch_dataset\n",
    "from skforecast.deep_learning import ForecasterRnn\n",
    "from skforecast.deep_learning.utils import create_and_compile_model\n",
    "from skforecast.model_selection import TimeSeriesFold\n",
    "from skforecast.model_selection import backtesting_forecaster_multiseries\n",
    "\n",
    "from keras.optimizers import Adam\n",
    "from keras.losses import MeanSquaredError\n",
    "from keras.callbacks import EarlyStopping\n",
    "\n",
    "import warnings\n",
    "warnings.filterwarnings('once')\n",
    "\n",
    "print(f\"skforecast version: {skforecast.__version__}\")\n",
    "print(f\"keras version: {keras.__version__}\")\n",
    "\n",
    "if keras.__version__ > \"3.0\":\n",
    "    print(f\"Using backend: {keras.backend.backend()}\")\n",
    "    if keras.backend.backend() == \"tensorflow\":\n",
    "        import tensorflow\n",
    "        print(f\"tensorflow version: {tensorflow.__version__}\")\n",
    "    elif keras.backend.backend() == \"torch\":\n",
    "        import torch\n",
    "        print(f\"torch version: {torch.__version__}\")\n",
    "    else:\n",
    "        print(\"Backend not recognized. Please use 'tensorflow' or 'torch'.\")"
   ]
  },
  {
   "cell_type": "code",
   "execution_count": 2,
   "metadata": {},
   "outputs": [],
   "source": [
    "df_all = pd.read_csv(r'database\\DIM_PLAYER_GAMES.csv')\n",
    "df_eagles = df_all[df_all['PLAYER'].isin(['Saquon Barkley'])]"
   ]
  },
  {
   "cell_type": "code",
   "execution_count": 3,
   "metadata": {},
   "outputs": [],
   "source": [
    "df_multi = pd.get_dummies(df_eagles, columns=['OPPONENT'], dtype=int)"
   ]
  },
  {
   "cell_type": "code",
   "execution_count": 4,
   "metadata": {},
   "outputs": [
    {
     "data": {
      "text/plain": [
       "Index(['GAME_ORDER', 'YEAR', 'DATE', 'GAME_NUMBER', 'WEEK', 'PLAYER', 'AGE',\n",
       "       'TEAM', 'RESULT', 'RUSHING_ATT', 'RUSHING_YDS', 'RUSHING_TD',\n",
       "       'RUSHING_1D', 'RUSHING_YBC', 'RUSHING_YBC_ATT', 'RUSHING_YAC',\n",
       "       'RUSHING_YAC_ATT', 'RUSHING_BRKTKL', 'RUSHING_ATT_BR', 'RECEIVING_TGT',\n",
       "       'RECEIVING_REC', 'RECEIVING_YDS', 'RECEIVING_TD', 'RECEIVING_1D',\n",
       "       'RECEIVING_YBC', 'RECEIVING_YBC_R', 'RECEIVING_YAC', 'RECEIVING_YAC_R',\n",
       "       'RECEIVING_ADOT', 'RECEIVING_BRKTKL', 'RECEIVING_REC_BR',\n",
       "       'RECEIVING_DROP', 'RECEIVING_DROP_PCT', 'RECEIVING_INT',\n",
       "       'RECEIVING_RAT', 'PASSING_CMP', 'PASSING_ATT', 'PASSING_CMP_PCT',\n",
       "       'PASSING_YDS', 'PASSING_TD', 'PASSING_INT', 'PASSING_RATE',\n",
       "       'PASSING_SK', 'PASSING_YDS1', 'PASSING_Y_A', 'PASSING_AY_A', 'PPR',\n",
       "       'OPPONENT_ARI', 'OPPONENT_ATL', 'OPPONENT_BAL', 'OPPONENT_BUF',\n",
       "       'OPPONENT_CAR', 'OPPONENT_CHI', 'OPPONENT_CIN', 'OPPONENT_CLE',\n",
       "       'OPPONENT_DAL', 'OPPONENT_DEN', 'OPPONENT_DET', 'OPPONENT_GNB',\n",
       "       'OPPONENT_HOU', 'OPPONENT_IND', 'OPPONENT_JAX', 'OPPONENT_LAC',\n",
       "       'OPPONENT_LAR', 'OPPONENT_LVR', 'OPPONENT_MIA', 'OPPONENT_MIN',\n",
       "       'OPPONENT_NOR', 'OPPONENT_NWE', 'OPPONENT_NYG', 'OPPONENT_NYJ',\n",
       "       'OPPONENT_PHI', 'OPPONENT_PIT', 'OPPONENT_SEA', 'OPPONENT_SFO',\n",
       "       'OPPONENT_TAM', 'OPPONENT_TEN', 'OPPONENT_WAS'],\n",
       "      dtype='object')"
      ]
     },
     "execution_count": 4,
     "metadata": {},
     "output_type": "execute_result"
    }
   ],
   "source": [
    "df_multi.columns"
   ]
  },
  {
   "cell_type": "code",
   "execution_count": 5,
   "metadata": {},
   "outputs": [],
   "source": [
    "df_multi2 = df_multi.pivot(columns='PLAYER', values=['PPR', 'OPPONENT_ARI', 'OPPONENT_ATL', 'OPPONENT_BAL', 'OPPONENT_BUF',\n",
    "       'OPPONENT_CAR', 'OPPONENT_CHI', 'OPPONENT_CIN', 'OPPONENT_CLE',\n",
    "       'OPPONENT_DAL', 'OPPONENT_DEN', 'OPPONENT_DET', 'OPPONENT_GNB',\n",
    "       'OPPONENT_HOU', 'OPPONENT_IND', 'OPPONENT_JAX', 'OPPONENT_LAC',\n",
    "       'OPPONENT_LAR', 'OPPONENT_LVR', 'OPPONENT_MIA', 'OPPONENT_MIN',\n",
    "       'OPPONENT_NOR', 'OPPONENT_NWE', 'OPPONENT_NYG', 'OPPONENT_NYJ',\n",
    "       'OPPONENT_PHI', 'OPPONENT_PIT', 'OPPONENT_SEA', 'OPPONENT_SFO',\n",
    "       'OPPONENT_TAM', 'OPPONENT_TEN', 'OPPONENT_WAS'], index='GAME_ORDER').reset_index().head(50)\n",
    "\n",
    "df_multi3 = df_multi.pivot(columns='PLAYER', values=['PPR', 'OPPONENT_ARI', 'OPPONENT_ATL', 'OPPONENT_BAL', 'OPPONENT_BUF',\n",
    "       'OPPONENT_CAR', 'OPPONENT_CHI', 'OPPONENT_CIN', 'OPPONENT_CLE',\n",
    "       'OPPONENT_DAL', 'OPPONENT_DEN', 'OPPONENT_DET', 'OPPONENT_GNB',\n",
    "       'OPPONENT_HOU', 'OPPONENT_IND', 'OPPONENT_JAX', 'OPPONENT_LAC',\n",
    "       'OPPONENT_LAR', 'OPPONENT_LVR', 'OPPONENT_MIA', 'OPPONENT_MIN',\n",
    "       'OPPONENT_NOR', 'OPPONENT_NWE', 'OPPONENT_NYG', 'OPPONENT_NYJ',\n",
    "       'OPPONENT_PHI', 'OPPONENT_PIT', 'OPPONENT_SEA', 'OPPONENT_SFO',\n",
    "       'OPPONENT_TAM', 'OPPONENT_TEN', 'OPPONENT_WAS'], index='GAME_ORDER').reset_index().head(55)\n",
    "\n",
    "df_multi2.columns =  ['_'.join(col).strip() for col in df_multi2.columns.values]\n",
    "df_multi3.columns =  ['_'.join(col).strip() for col in df_multi3.columns.values]\n",
    "\n"
   ]
  },
  {
   "cell_type": "code",
   "execution_count": 6,
   "metadata": {},
   "outputs": [
    {
     "data": {
      "text/plain": [
       "Index(['GAME_ORDER_', 'PPR_Saquon Barkley', 'OPPONENT_ARI_Saquon Barkley',\n",
       "       'OPPONENT_ATL_Saquon Barkley', 'OPPONENT_BAL_Saquon Barkley',\n",
       "       'OPPONENT_BUF_Saquon Barkley', 'OPPONENT_CAR_Saquon Barkley',\n",
       "       'OPPONENT_CHI_Saquon Barkley', 'OPPONENT_CIN_Saquon Barkley',\n",
       "       'OPPONENT_CLE_Saquon Barkley', 'OPPONENT_DAL_Saquon Barkley',\n",
       "       'OPPONENT_DEN_Saquon Barkley', 'OPPONENT_DET_Saquon Barkley',\n",
       "       'OPPONENT_GNB_Saquon Barkley', 'OPPONENT_HOU_Saquon Barkley',\n",
       "       'OPPONENT_IND_Saquon Barkley', 'OPPONENT_JAX_Saquon Barkley',\n",
       "       'OPPONENT_LAC_Saquon Barkley', 'OPPONENT_LAR_Saquon Barkley',\n",
       "       'OPPONENT_LVR_Saquon Barkley', 'OPPONENT_MIA_Saquon Barkley',\n",
       "       'OPPONENT_MIN_Saquon Barkley', 'OPPONENT_NOR_Saquon Barkley',\n",
       "       'OPPONENT_NWE_Saquon Barkley', 'OPPONENT_NYG_Saquon Barkley',\n",
       "       'OPPONENT_NYJ_Saquon Barkley', 'OPPONENT_PHI_Saquon Barkley',\n",
       "       'OPPONENT_PIT_Saquon Barkley', 'OPPONENT_SEA_Saquon Barkley',\n",
       "       'OPPONENT_SFO_Saquon Barkley', 'OPPONENT_TAM_Saquon Barkley',\n",
       "       'OPPONENT_TEN_Saquon Barkley', 'OPPONENT_WAS_Saquon Barkley'],\n",
       "      dtype='object')"
      ]
     },
     "execution_count": 6,
     "metadata": {},
     "output_type": "execute_result"
    }
   ],
   "source": [
    "df_multi2.columns"
   ]
  },
  {
   "cell_type": "code",
   "execution_count": 24,
   "metadata": {},
   "outputs": [
    {
     "name": "stdout",
     "output_type": "stream",
     "text": [
      "keras version: 3.8.0\n",
      "Using backend: torch\n",
      "torch version: 2.5.1+cpu\n"
     ]
    }
   ],
   "source": [
    "# Model creation\n",
    "# ==============================================================================\n",
    "series = ['PPR_Saquon Barkley', 'OPPONENT_ARI_Saquon Barkley',\n",
    "       'OPPONENT_ATL_Saquon Barkley', 'OPPONENT_BAL_Saquon Barkley',\n",
    "       'OPPONENT_BUF_Saquon Barkley', 'OPPONENT_CAR_Saquon Barkley',\n",
    "       'OPPONENT_CHI_Saquon Barkley', 'OPPONENT_CIN_Saquon Barkley',\n",
    "       'OPPONENT_CLE_Saquon Barkley', 'OPPONENT_DAL_Saquon Barkley',\n",
    "       'OPPONENT_DEN_Saquon Barkley', 'OPPONENT_DET_Saquon Barkley',\n",
    "       'OPPONENT_GNB_Saquon Barkley', 'OPPONENT_HOU_Saquon Barkley',\n",
    "       'OPPONENT_IND_Saquon Barkley', 'OPPONENT_JAX_Saquon Barkley',\n",
    "       'OPPONENT_LAC_Saquon Barkley', 'OPPONENT_LAR_Saquon Barkley',\n",
    "       'OPPONENT_LVR_Saquon Barkley', 'OPPONENT_MIA_Saquon Barkley',\n",
    "       'OPPONENT_MIN_Saquon Barkley', 'OPPONENT_NOR_Saquon Barkley',\n",
    "       'OPPONENT_NWE_Saquon Barkley', 'OPPONENT_NYG_Saquon Barkley',\n",
    "       'OPPONENT_NYJ_Saquon Barkley', 'OPPONENT_PHI_Saquon Barkley',\n",
    "       'OPPONENT_PIT_Saquon Barkley', 'OPPONENT_SEA_Saquon Barkley',\n",
    "       'OPPONENT_SFO_Saquon Barkley', 'OPPONENT_TAM_Saquon Barkley',\n",
    "       'OPPONENT_TEN_Saquon Barkley', 'OPPONENT_WAS_Saquon Barkley']\n",
    "levels = ['PPR_Saquon Barkley']   # Features to predict. It can be all the series or less\n",
    "lags = 12\n",
    "steps = 5 \n",
    "data = df_multi2[series].copy()\n",
    "data_train = df_multi2[series].copy()\n",
    "data_val = df_multi2[series].copy()\n",
    "data_test = df_multi2[series].copy()\n",
    "\n",
    "model = create_and_compile_model(\n",
    "    series=data_train,\n",
    "    levels=levels, \n",
    "    lags=lags,\n",
    "    steps=steps,\n",
    "    recurrent_layer=\"LSTM\",\n",
    "    recurrent_units=[100, 50],\n",
    "    dense_units=[64, 32],\n",
    "    optimizer=Adam(learning_rate=0.01), \n",
    "    loss=MeanSquaredError()\n",
    ")\n",
    "\n",
    "forecaster = ForecasterRnn(\n",
    "    regressor=model,\n",
    "    levels=levels,\n",
    "    steps=steps,\n",
    "    lags=lags,\n",
    ")"
   ]
  },
  {
   "cell_type": "code",
   "execution_count": 25,
   "metadata": {},
   "outputs": [
    {
     "name": "stdout",
     "output_type": "stream",
     "text": [
      "\u001b[1m2/2\u001b[0m \u001b[32m━━━━━━━━━━━━━━━━━━━━\u001b[0m\u001b[37m\u001b[0m \u001b[1m0s\u001b[0m 30ms/step - loss: 0.1626\n"
     ]
    }
   ],
   "source": [
    "forecaster.fit(data_train)"
   ]
  },
  {
   "cell_type": "code",
   "execution_count": 26,
   "metadata": {},
   "outputs": [
    {
     "data": {
      "text/html": [
       "<div>\n",
       "<style scoped>\n",
       "    .dataframe tbody tr th:only-of-type {\n",
       "        vertical-align: middle;\n",
       "    }\n",
       "\n",
       "    .dataframe tbody tr th {\n",
       "        vertical-align: top;\n",
       "    }\n",
       "\n",
       "    .dataframe thead th {\n",
       "        text-align: right;\n",
       "    }\n",
       "</style>\n",
       "<table border=\"1\" class=\"dataframe\">\n",
       "  <thead>\n",
       "    <tr style=\"text-align: right;\">\n",
       "      <th></th>\n",
       "      <th>PPR_Saquon Barkley</th>\n",
       "    </tr>\n",
       "  </thead>\n",
       "  <tbody>\n",
       "    <tr>\n",
       "      <th>50</th>\n",
       "      <td>13.634933</td>\n",
       "    </tr>\n",
       "    <tr>\n",
       "      <th>51</th>\n",
       "      <td>2.401607</td>\n",
       "    </tr>\n",
       "    <tr>\n",
       "      <th>52</th>\n",
       "      <td>13.349408</td>\n",
       "    </tr>\n",
       "    <tr>\n",
       "      <th>53</th>\n",
       "      <td>24.401941</td>\n",
       "    </tr>\n",
       "    <tr>\n",
       "      <th>54</th>\n",
       "      <td>14.836530</td>\n",
       "    </tr>\n",
       "  </tbody>\n",
       "</table>\n",
       "</div>"
      ],
      "text/plain": [
       "    PPR_Saquon Barkley\n",
       "50           13.634933\n",
       "51            2.401607\n",
       "52           13.349408\n",
       "53           24.401941\n",
       "54           14.836530"
      ]
     },
     "execution_count": 26,
     "metadata": {},
     "output_type": "execute_result"
    }
   ],
   "source": [
    "predictions = forecaster.predict()\n",
    "predictions"
   ]
  },
  {
   "cell_type": "code",
   "execution_count": 27,
   "metadata": {},
   "outputs": [
    {
     "data": {
      "text/html": [
       "<div>\n",
       "<style scoped>\n",
       "    .dataframe tbody tr th:only-of-type {\n",
       "        vertical-align: middle;\n",
       "    }\n",
       "\n",
       "    .dataframe tbody tr th {\n",
       "        vertical-align: top;\n",
       "    }\n",
       "\n",
       "    .dataframe thead th {\n",
       "        text-align: right;\n",
       "    }\n",
       "</style>\n",
       "<table border=\"1\" class=\"dataframe\">\n",
       "  <thead>\n",
       "    <tr style=\"text-align: right;\">\n",
       "      <th></th>\n",
       "      <th>PPR_Saquon Barkley</th>\n",
       "    </tr>\n",
       "  </thead>\n",
       "  <tbody>\n",
       "    <tr>\n",
       "      <th>50</th>\n",
       "      <td>17.5</td>\n",
       "    </tr>\n",
       "    <tr>\n",
       "      <th>51</th>\n",
       "      <td>15.2</td>\n",
       "    </tr>\n",
       "    <tr>\n",
       "      <th>52</th>\n",
       "      <td>23.0</td>\n",
       "    </tr>\n",
       "    <tr>\n",
       "      <th>53</th>\n",
       "      <td>5.5</td>\n",
       "    </tr>\n",
       "    <tr>\n",
       "      <th>54</th>\n",
       "      <td>15.2</td>\n",
       "    </tr>\n",
       "  </tbody>\n",
       "</table>\n",
       "</div>"
      ],
      "text/plain": [
       "    PPR_Saquon Barkley\n",
       "50                17.5\n",
       "51                15.2\n",
       "52                23.0\n",
       "53                 5.5\n",
       "54                15.2"
      ]
     },
     "execution_count": 27,
     "metadata": {},
     "output_type": "execute_result"
    }
   ],
   "source": [
    "df_multi3[['PPR_Saquon Barkley']].tail(5)"
   ]
  }
 ],
 "metadata": {
  "kernelspec": {
   "display_name": "ff_env",
   "language": "python",
   "name": "python3"
  },
  "language_info": {
   "codemirror_mode": {
    "name": "ipython",
    "version": 3
   },
   "file_extension": ".py",
   "mimetype": "text/x-python",
   "name": "python",
   "nbconvert_exporter": "python",
   "pygments_lexer": "ipython3",
   "version": "3.11.11"
  }
 },
 "nbformat": 4,
 "nbformat_minor": 2
}
