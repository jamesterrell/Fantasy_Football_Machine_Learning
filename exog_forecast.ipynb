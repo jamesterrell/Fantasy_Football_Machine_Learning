{
 "cells": [
  {
   "cell_type": "code",
   "execution_count": 1,
   "metadata": {},
   "outputs": [],
   "source": [
    "import matplotlib.pyplot as plt\n",
    "from modeling.evaluate import Evaluate\n",
    "import xgboost as xgb\n",
    "from sklearn.ensemble import RandomForestRegressor\n",
    "from sklearn.linear_model import LinearRegression, BayesianRidge\n",
    "from sklearn.preprocessing import MinMaxScaler\n",
    "import warnings\n",
    "import pandas as pd\n",
    "import numpy as np\n",
    "warnings.simplefilter(action=\"ignore\")\n",
    "plt.style.use(\"seaborn-v0_8-darkgrid\")\n",
    "pd.set_option('display.max_columns', 50)\n"
   ]
  },
  {
   "cell_type": "code",
   "execution_count": 2,
   "metadata": {},
   "outputs": [],
   "source": [
    "df = pd.read_csv('database/DIM_PLAYER_GAMES.csv')\n",
    "df_dfns = pd.read_csv('database/DIM_DEFENSE.csv').drop(columns=['Unnamed: 0', 'Unnamed: 0.1'])"
   ]
  },
  {
   "cell_type": "code",
   "execution_count": 3,
   "metadata": {},
   "outputs": [
    {
     "data": {
      "text/plain": [
       "Index(['GAME_ORDER', 'YEAR', 'DATE', 'GAME_NUMBER', 'WEEK', 'PLAYER', 'AGE',\n",
       "       'TEAM', 'OPPONENT', 'RESULT', 'RUSHING_ATT', 'RUSHING_YDS',\n",
       "       'RUSHING_TD', 'RUSHING_1D', 'RUSHING_YBC', 'RUSHING_YBC_ATT',\n",
       "       'RUSHING_YAC', 'RUSHING_YAC_ATT', 'RUSHING_BRKTKL', 'RUSHING_ATT_BR',\n",
       "       'RECEIVING_TGT', 'RECEIVING_REC', 'RECEIVING_YDS', 'RECEIVING_TD',\n",
       "       'RECEIVING_1D', 'RECEIVING_YBC', 'RECEIVING_YBC_R', 'RECEIVING_YAC',\n",
       "       'RECEIVING_YAC_R', 'RECEIVING_ADOT', 'RECEIVING_BRKTKL',\n",
       "       'RECEIVING_REC_BR', 'RECEIVING_DROP', 'RECEIVING_DROP_PCT',\n",
       "       'RECEIVING_INT', 'RECEIVING_RAT', 'PASSING_CMP', 'PASSING_ATT',\n",
       "       'PASSING_CMP_PCT', 'PASSING_YDS', 'PASSING_TD', 'PASSING_INT',\n",
       "       'PASSING_RATE', 'PASSING_SK', 'PASSING_YDS1', 'PASSING_Y_A',\n",
       "       'PASSING_AY_A', 'PPR'],\n",
       "      dtype='object')"
      ]
     },
     "execution_count": 3,
     "metadata": {},
     "output_type": "execute_result"
    }
   ],
   "source": [
    "df.columns"
   ]
  },
  {
   "cell_type": "code",
   "execution_count": 4,
   "metadata": {},
   "outputs": [
    {
     "data": {
      "text/plain": [
       "Index(['Unnamed: 0.2', 'DEF_TEAM', 'OPP_CODE', 'YEAR', 'WEEK', 'SCORE_OPP',\n",
       "       'PASSING_CMP', 'PASSING_ATT', 'PASSING_YDS', 'PASSING_TD',\n",
       "       'PASSING_INT', 'PASSING_SK', 'PASSING_Y_A', 'PASSING_NY_A',\n",
       "       'PASSING_CMP_PCT', 'PASSING_RATE', 'RUSHING_ATT', 'RUSHING_YDS',\n",
       "       'RUSHING_Y_A', 'RUSHING_TD'],\n",
       "      dtype='object')"
      ]
     },
     "execution_count": 4,
     "metadata": {},
     "output_type": "execute_result"
    }
   ],
   "source": [
    "df_dfns.columns"
   ]
  },
  {
   "cell_type": "code",
   "execution_count": 5,
   "metadata": {},
   "outputs": [],
   "source": [
    "interested = [\n",
    "    \"SCORE_OPP\",\n",
    "    \"PASSING_CMP\",\n",
    "    \"PASSING_ATT\",\n",
    "    \"PASSING_YDS\",\n",
    "    \"PASSING_TD\",\n",
    "    \"PASSING_INT\",\n",
    "    \"PASSING_SK\",\n",
    "    \"PASSING_Y_A\",\n",
    "    \"PASSING_NY_A\",\n",
    "    \"PASSING_CMP_PCT\",\n",
    "    \"PASSING_RATE\",\n",
    "    \"RUSHING_ATT\",\n",
    "    \"RUSHING_YDS\",\n",
    "    \"RUSHING_Y_A\",\n",
    "    \"RUSHING_TD\"\n",
    "]\n",
    "\n",
    "for i in interested:\n",
    "    # Calculate the rolling mean\n",
    "    df_dfns.sort_values([\"DEF_TEAM\", \"YEAR\", \"WEEK\"], inplace=True)\n",
    "    rolling_series = (\n",
    "        df_dfns.sort_values([\"DEF_TEAM\", \"YEAR\", \"WEEK\"])\n",
    "        .groupby(\"DEF_TEAM\")[i]\n",
    "        .rolling(window=8)\n",
    "        .mean()\n",
    "        .shift(periods=1)\n",
    "    )\n",
    "\n",
    "    # Reset the index to align with the original dataframe\n",
    "    rolling_series = rolling_series.reset_index(level=0, drop=True)\n",
    "\n",
    "    # scaler = MinMaxScaler()\n",
    "    # scaled_values = scaler.fit_transform(rolling_series.values.reshape(-1, 1)).flatten()\n",
    "\n",
    "    # Assign the values to the new column\n",
    "    df_dfns[f\"{i}_rolling\"] = rolling_series"
   ]
  },
  {
   "cell_type": "code",
   "execution_count": 6,
   "metadata": {},
   "outputs": [],
   "source": [
    "df_dfns_j = df_dfns[\n",
    "    [\n",
    "        \"YEAR\",\n",
    "        \"WEEK\",\n",
    "        \"DEF_TEAM\",\n",
    "        \"OPP_CODE\",\n",
    "        \"SCORE_OPP_rolling\",\n",
    "        \"PASSING_CMP_rolling\",\n",
    "        \"PASSING_ATT_rolling\",\n",
    "        \"PASSING_YDS_rolling\",\n",
    "        \"PASSING_TD_rolling\",\n",
    "        \"PASSING_INT_rolling\",\n",
    "        \"PASSING_SK_rolling\",\n",
    "        \"PASSING_Y_A_rolling\",\n",
    "        \"PASSING_NY_A_rolling\",\n",
    "        \"PASSING_CMP_PCT_rolling\",\n",
    "        \"PASSING_RATE_rolling\",\n",
    "        \"RUSHING_ATT_rolling\",\n",
    "        \"RUSHING_YDS_rolling\",\n",
    "        \"RUSHING_Y_A_rolling\",\n",
    "        \"RUSHING_TD_rolling\",\n",
    "    ]\n",
    "]"
   ]
  },
  {
   "cell_type": "code",
   "execution_count": 7,
   "metadata": {},
   "outputs": [],
   "source": [
    "df_comb = pd.merge(df_dfns_j, df, how='left', left_on=['YEAR', 'WEEK', 'OPP_CODE'], right_on=['YEAR', 'WEEK', 'TEAM']).sort_values(by=['PLAYER', 'DATE'])"
   ]
  },
  {
   "cell_type": "code",
   "execution_count": 8,
   "metadata": {},
   "outputs": [
    {
     "data": {
      "text/plain": [
       "PPR                        1.000000\n",
       "RECEIVING_TD               0.470177\n",
       "RECEIVING_YDS              0.455873\n",
       "RECEIVING_1D               0.428108\n",
       "RECEIVING_YAC              0.418852\n",
       "PASSING_TD                 0.410625\n",
       "RECEIVING_REC              0.403728\n",
       "RUSHING_TD                 0.381005\n",
       "PASSING_YDS                0.367587\n",
       "PASSING_RATE               0.351509\n",
       "RECEIVING_YBC              0.343764\n",
       "RUSHING_1D                 0.338715\n",
       "PASSING_CMP                0.338347\n",
       "RUSHING_YBC                0.325893\n",
       "PASSING_ATT                0.323442\n",
       "RUSHING_YDS                0.314362\n",
       "PASSING_Y_A                0.312998\n",
       "PASSING_CMP_PCT            0.312954\n",
       "RECEIVING_TGT              0.307347\n",
       "PASSING_AY_A               0.305553\n",
       "RECEIVING_REC_BR           0.249803\n",
       "RUSHING_ATT                0.243809\n",
       "RUSHING_YAC                0.233874\n",
       "RECEIVING_RAT              0.216844\n",
       "RUSHING_YBC_ATT            0.210380\n",
       "PASSING_SK                 0.196936\n",
       "RECEIVING_BRKTKL           0.182541\n",
       "PASSING_YDS1               0.178116\n",
       "PASSING_INT                0.172460\n",
       "RUSHING_BRKTKL             0.157291\n",
       "RUSHING_ATT_BR             0.139897\n",
       "RECEIVING_YAC_R            0.123779\n",
       "AGE                        0.115754\n",
       "GAME_ORDER                 0.103716\n",
       "RUSHING_YAC_ATT            0.103066\n",
       "RECEIVING_YBC_R            0.082622\n",
       "PASSING_YDS_rolling        0.057546\n",
       "PASSING_NY_A_rolling       0.056711\n",
       "PASSING_RATE_rolling       0.052681\n",
       "SCORE_OPP_rolling          0.050471\n",
       "PASSING_Y_A_rolling        0.048808\n",
       "RUSHING_TD_rolling         0.039292\n",
       "PASSING_TD_rolling         0.038700\n",
       "PASSING_CMP_rolling        0.036136\n",
       "PASSING_CMP_PCT_rolling    0.032073\n",
       "PASSING_ATT_rolling        0.026020\n",
       "RECEIVING_INT              0.019913\n",
       "RUSHING_YDS_rolling        0.019525\n",
       "RECEIVING_DROP             0.015824\n",
       "RUSHING_Y_A_rolling        0.014839\n",
       "RUSHING_ATT_rolling        0.012335\n",
       "WEEK                      -0.006300\n",
       "GAME_NUMBER               -0.007109\n",
       "PASSING_INT_rolling       -0.023546\n",
       "RECEIVING_ADOT            -0.027185\n",
       "PASSING_SK_rolling        -0.034640\n",
       "YEAR                      -0.062097\n",
       "RECEIVING_DROP_PCT        -0.098769\n",
       "Name: PPR, dtype: float64"
      ]
     },
     "execution_count": 8,
     "metadata": {},
     "output_type": "execute_result"
    }
   ],
   "source": [
    "df_comb.corr().sort_values('PPR', ascending=False)['PPR']"
   ]
  },
  {
   "cell_type": "code",
   "execution_count": 9,
   "metadata": {},
   "outputs": [],
   "source": [
    "df_comb['DATE'] = pd.to_datetime(df_comb['DATE'])"
   ]
  },
  {
   "cell_type": "code",
   "execution_count": 10,
   "metadata": {},
   "outputs": [],
   "source": [
    "df_comb2 = df_comb.loc[(df_comb['DATE']<pd.to_datetime('2023-10-31'))&(df_comb['PLAYER']!='Easton Stick')]\n"
   ]
  },
  {
   "cell_type": "code",
   "execution_count": 16,
   "metadata": {},
   "outputs": [
    {
     "name": "stdout",
     "output_type": "stream",
     "text": [
      "Not enough data. Adjusting lags for Desmond Ridder.\n",
      "Not enough data. Adjusting lags for Zach Wilson.\n",
      "Not enough data. Adjusting lags for Tyler Allgeier.\n",
      "Not enough data. Adjusting lags for Isaiah Likely.\n",
      "Not enough data. Adjusting lags for Romeo Doubs.\n",
      "Not enough data. Adjusting lags for Jahmyr Gibbs.\n",
      "Not enough data. Adjusting lags for Jaxon Smith-Njigba.\n",
      "Not enough data. Adjusting lags for Roschon Johnson.\n",
      "Not enough data. Adjusting lags for Justin Fields.\n",
      "Not enough data. Adjusting lags for Trey McBride.\n",
      "Not enough data. Adjusting lags for Jaleel McLaughlin.\n",
      "Not enough data. Adjusting lags for Nick Mullens.\n",
      "Not enough data. Adjusting lags for Jordan Love.\n",
      "Not enough data. Adjusting lags for Anthony Richardson.\n",
      "Not enough data. Adjusting lags for Christian Watson.\n",
      "Not enough data. Adjusting lags for Jahan Dotson.\n",
      "Not enough data. Adjusting lags for Sam LaPorta.\n",
      "Not enough data. Adjusting lags for Jordan Addison.\n",
      "Not enough data. Adjusting lags for Tank Dell.\n",
      "Not enough data. Adjusting lags for Wan'Dale Robinson.\n",
      "Not enough data. Adjusting lags for Will Levis.\n",
      "Not enough data. Adjusting steps for Will Levis.\n"
     ]
    },
    {
     "ename": "NameError",
     "evalue": "name 'top_180_eval' is not defined",
     "output_type": "error",
     "traceback": [
      "\u001b[1;31m---------------------------------------------------------------------------\u001b[0m",
      "\u001b[1;31mNameError\u001b[0m                                 Traceback (most recent call last)",
      "Cell \u001b[1;32mIn[16], line 31\u001b[0m\n\u001b[0;32m     28\u001b[0m \u001b[38;5;28;01mexcept\u001b[39;00m:\n\u001b[0;32m     29\u001b[0m     \u001b[38;5;28;01mpass\u001b[39;00m\n\u001b[1;32m---> 31\u001b[0m df_top_180 \u001b[38;5;241m=\u001b[39m pd\u001b[38;5;241m.\u001b[39mconcat(top_180_eval)\n",
      "\u001b[1;31mNameError\u001b[0m: name 'top_180_eval' is not defined"
     ]
    }
   ],
   "source": [
    "try:\n",
    "    top_180_eval = [\n",
    "        Evaluate(\n",
    "            df=df_comb2,\n",
    "            player=name,\n",
    "            steps=1,\n",
    "            target='PPR',\n",
    "        # regressor=xgb.XGBRegressor(colsample_bytree=1, learning_rate=0.4, base_score=10),\n",
    "        regressor = RandomForestRegressor(random_state=42),\n",
    "            lags=17,\n",
    "            exogs=[\n",
    "            \"SCORE_OPP_rolling\",\n",
    "            \"PASSING_YDS_rolling\",\n",
    "            \"PASSING_TD_rolling\",\n",
    "            \"PASSING_INT_rolling\",\n",
    "            \"PASSING_SK_rolling\",\n",
    "            \"PASSING_Y_A_rolling\",\n",
    "            \"PASSING_NY_A_rolling\",\n",
    "            \"PASSING_CMP_PCT_rolling\",\n",
    "            \"PASSING_RATE_rolling\",\n",
    "            \"RUSHING_ATT_rolling\",\n",
    "            \"RUSHING_YDS_rolling\",\n",
    "            \"RUSHING_Y_A_rolling\",\n",
    "            \"RUSHING_TD_rolling\"],\n",
    "        ).eval()\n",
    "        for name in list(set(df_comb2[\"PLAYER\"]))\n",
    "    ]\n",
    "except:\n",
    "    pass\n",
    "\n",
    "df_top_180 = pd.concat(top_180_eval)"
   ]
  },
  {
   "cell_type": "code",
   "execution_count": 15,
   "metadata": {},
   "outputs": [
    {
     "ename": "NameError",
     "evalue": "name 'df_top_180' is not defined",
     "output_type": "error",
     "traceback": [
      "\u001b[1;31m---------------------------------------------------------------------------\u001b[0m",
      "\u001b[1;31mNameError\u001b[0m                                 Traceback (most recent call last)",
      "Cell \u001b[1;32mIn[15], line 2\u001b[0m\n\u001b[0;32m      1\u001b[0m \u001b[38;5;66;03m# df_top_181 = df_top_180.loc[(df_top_180['ACTUAL SEASON TOTAL']>120)&(df_top_180['LAGS']>=10)]\u001b[39;00m\n\u001b[1;32m----> 2\u001b[0m df_top_181 \u001b[38;5;241m=\u001b[39m df_top_180\u001b[38;5;241m.\u001b[39mloc[(df_top_180[\u001b[38;5;124m'\u001b[39m\u001b[38;5;124mLAGS\u001b[39m\u001b[38;5;124m'\u001b[39m]\u001b[38;5;241m>\u001b[39m\u001b[38;5;241m=\u001b[39m\u001b[38;5;241m5\u001b[39m)\u001b[38;5;241m&\u001b[39m(df_top_180[\u001b[38;5;124m'\u001b[39m\u001b[38;5;124mACTUAL SEASON TOTAL\u001b[39m\u001b[38;5;124m'\u001b[39m]\u001b[38;5;241m>\u001b[39m\u001b[38;5;241m0\u001b[39m)]\n",
      "\u001b[1;31mNameError\u001b[0m: name 'df_top_180' is not defined"
     ]
    }
   ],
   "source": [
    "# df_top_181 = df_top_180.loc[(df_top_180['ACTUAL SEASON TOTAL']>120)&(df_top_180['LAGS']>=10)]\n",
    "df_top_181 = df_top_180.loc[(df_top_180['LAGS']>=5)&(df_top_180['ACTUAL SEASON TOTAL']>0)]"
   ]
  },
  {
   "cell_type": "code",
   "execution_count": 14,
   "metadata": {},
   "outputs": [
    {
     "ename": "NameError",
     "evalue": "name 'df_top_181' is not defined",
     "output_type": "error",
     "traceback": [
      "\u001b[1;31m---------------------------------------------------------------------------\u001b[0m",
      "\u001b[1;31mNameError\u001b[0m                                 Traceback (most recent call last)",
      "Cell \u001b[1;32mIn[14], line 1\u001b[0m\n\u001b[1;32m----> 1\u001b[0m df_top_181\u001b[38;5;241m.\u001b[39msort_values(by\u001b[38;5;241m=\u001b[39m\u001b[38;5;124m'\u001b[39m\u001b[38;5;124mSEASON MAPE\u001b[39m\u001b[38;5;124m'\u001b[39m)\u001b[38;5;241m.\u001b[39mtail(\u001b[38;5;241m25\u001b[39m)\n",
      "\u001b[1;31mNameError\u001b[0m: name 'df_top_181' is not defined"
     ]
    }
   ],
   "source": [
    "df_top_181.sort_values(by='SEASON MAPE').tail(25)"
   ]
  },
  {
   "cell_type": "code",
   "execution_count": 393,
   "metadata": {},
   "outputs": [
    {
     "data": {
      "text/plain": [
       "(1.3121261819023533, 6.370892857142857, 1.3121261819023533)"
      ]
     },
     "execution_count": 393,
     "metadata": {},
     "output_type": "execute_result"
    }
   ],
   "source": [
    "np.mean(df_top_181['SEASON MAPE']), np.mean(df_top_181['GAME RSME']), np.mean(df_top_181['GAME MAPE'])"
   ]
  },
  {
   "cell_type": "code",
   "execution_count": 394,
   "metadata": {},
   "outputs": [
    {
     "data": {
      "text/plain": [
       "13.04"
      ]
     },
     "execution_count": 394,
     "metadata": {},
     "output_type": "execute_result"
    }
   ],
   "source": [
    "df_top_181['ACTUAL SEASON TOTAL'].mean()"
   ]
  },
  {
   "cell_type": "code",
   "execution_count": 395,
   "metadata": {},
   "outputs": [],
   "source": [
    "# np.sqrt(mean_squared_error(df_top_180['ACTUAL SEASON TOTAL'], df_top_180['PREDICTED']))"
   ]
  },
  {
   "cell_type": "code",
   "execution_count": 396,
   "metadata": {},
   "outputs": [],
   "source": [
    "# np.sqrt(mean_squared_error(df_top_180['ACTUAL SEASON TOTAL'], df_top_180['PREDICTED']))"
   ]
  },
  {
   "cell_type": "code",
   "execution_count": 397,
   "metadata": {},
   "outputs": [],
   "source": [
    "# top_180_pred = [\n",
    "# Predict(\n",
    "#     df=df, player=i, steps=17, regressor=GradientBoostingRegressor, lags=9\n",
    "# ).predict_season() for i in list(set(df['PLAYER']))\n",
    "# ]\n",
    "\n",
    "# clean_data = [row for row in top_180_pred if row is not None]"
   ]
  },
  {
   "cell_type": "code",
   "execution_count": 398,
   "metadata": {},
   "outputs": [],
   "source": [
    "# df_preds = pd.DataFrame(clean_data, columns=['PLAYER', 'PROJECTED POINTS'])"
   ]
  },
  {
   "cell_type": "code",
   "execution_count": 399,
   "metadata": {},
   "outputs": [],
   "source": [
    "# df_2023 = df.loc[df['YEAR']==2023]\n",
    "# df_players_2023 = df_2023.groupby(['PLAYER', 'TEAM'])['PPR'].sum().reset_index()\n",
    "# df_players_2023.rename(columns={'PPR':'PPR_2023'}, inplace=True)"
   ]
  },
  {
   "cell_type": "code",
   "execution_count": 400,
   "metadata": {},
   "outputs": [],
   "source": [
    "# df_adp = pd.read_csv('ADP_2024.csv')\n",
    "# df_adp['Position'] = df_adp['Consensus Pos'].str[:2]\n",
    "# df_adp['Target Round'] = (df_adp['Consensus'] // 10).astype(int) + 1"
   ]
  },
  {
   "cell_type": "code",
   "execution_count": 401,
   "metadata": {},
   "outputs": [],
   "source": [
    "# df_merge1 = pd.merge(df_players_2023, df_preds,  how='inner', on='PLAYER')"
   ]
  },
  {
   "cell_type": "code",
   "execution_count": 402,
   "metadata": {},
   "outputs": [],
   "source": [
    "# df_final = pd.merge(df_merge1, df_adp[['Player', 'Position', 'Consensus', 'Target Round']], left_on='PLAYER', right_on='Player', how='inner').drop(columns=['Player'])"
   ]
  },
  {
   "cell_type": "code",
   "execution_count": 403,
   "metadata": {},
   "outputs": [],
   "source": [
    "# ranked_values = {\n",
    "#     'QB': df_final[df_final['Position'] == 'QB'].nlargest(10, 'PROJECTED POINTS')['PROJECTED POINTS'].iloc[-1] if len(df_final[df_final['Position'] == 'QB']) >= 10 else df_final[df_final['Position'] == 'QB']['PROJECTED POINTS'].min(),\n",
    "#     'TE': df_final[df_final['Position'] == 'TE'].nlargest(10, 'PROJECTED POINTS')['PROJECTED POINTS'].iloc[-1] if len(df_final[df_final['Position'] == 'TE']) >= 10 else df_final[df_final['Position'] == 'TE']['PROJECTED POINTS'].min(),\n",
    "#     'WR': df_final[df_final['Position'] == 'WR'].nlargest(30, 'PROJECTED POINTS')['PROJECTED POINTS'].iloc[-1] if len(df_final[df_final['Position'] == 'WR']) >= 30 else df_final[df_final['Position'] == 'WR']['PROJECTED POINTS'].min(),\n",
    "#     'RB': df_final[df_final['Position'] == 'RB'].nlargest(20, 'PROJECTED POINTS')['PROJECTED POINTS'].iloc[-1] if len(df_final[df_final['Position'] == 'RB']) >= 20 else df_final[df_final['Position'] == 'RB']['PPROJECTED POINTS'].min()\n",
    "# }\n",
    "\n",
    "# # Print the ranked PPR values for debugging\n",
    "# print(\"Ranked PPR values:\")\n",
    "# print(ranked_values)"
   ]
  },
  {
   "cell_type": "code",
   "execution_count": 404,
   "metadata": {},
   "outputs": [],
   "source": [
    "# def VBD(row):\n",
    "#     category = row['Position']\n",
    "#     ranked_ppr = ranked_values.get(category, 0) \n",
    "#     return row['PROJECTED POINTS'] - ranked_ppr\n",
    "\n",
    "# # Apply the function to each row\n",
    "# df_final['VBD'] = df_final.apply(VBD, axis=1)\n"
   ]
  },
  {
   "cell_type": "code",
   "execution_count": 405,
   "metadata": {},
   "outputs": [],
   "source": [
    "# df_final['My Ranking'] = df_final['VBD'].rank(ascending=False, method='min').astype(int)\n",
    "# df_final.sort_values(by='VBD', ascending=False).head(25)"
   ]
  },
  {
   "cell_type": "code",
   "execution_count": 406,
   "metadata": {},
   "outputs": [],
   "source": [
    "# df_final.to_csv('Draft Strategy 2024.csv')"
   ]
  }
 ],
 "metadata": {
  "kernelspec": {
   "display_name": "ff_env",
   "language": "python",
   "name": "python3"
  },
  "language_info": {
   "codemirror_mode": {
    "name": "ipython",
    "version": 3
   },
   "file_extension": ".py",
   "mimetype": "text/x-python",
   "name": "python",
   "nbconvert_exporter": "python",
   "pygments_lexer": "ipython3",
   "version": "3.11.3"
  }
 },
 "nbformat": 4,
 "nbformat_minor": 2
}
