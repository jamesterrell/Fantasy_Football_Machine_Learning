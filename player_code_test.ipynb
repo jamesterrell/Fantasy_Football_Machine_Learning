{
 "cells": [
  {
   "cell_type": "code",
   "execution_count": 21,
   "metadata": {},
   "outputs": [],
   "source": [
    "import pandas as pd\n",
    "from database.scrape import get_all_stats\n",
    "from modeling.predict import Predict\n",
    "from st_helpers.table_functions import create_streamlit_table, create_summary_stats\n",
    "from sklearn.ensemble import RandomForestRegressor\n",
    "pd.set_option('display.max_columns', 70)"
   ]
  },
  {
   "cell_type": "code",
   "execution_count": 22,
   "metadata": {},
   "outputs": [],
   "source": [
    "df_keys = pd.read_csv(r'database\\PLAYER_CODE_KEYS.csv')"
   ]
  },
  {
   "cell_type": "code",
   "execution_count": 23,
   "metadata": {},
   "outputs": [],
   "source": [
    "df_select = df_keys.loc[df_keys['Player'].isin(['Goff, Jared', 'Prescott, Dak'])]"
   ]
  },
  {
   "cell_type": "code",
   "execution_count": 24,
   "metadata": {},
   "outputs": [
    {
     "name": "stdout",
     "output_type": "stream",
     "text": [
      "P/PresDa01 done.\n",
      "G/GoffJa00 done.\n"
     ]
    }
   ],
   "source": [
    "stats = [get_all_stats(i) for i in df_select['Player Code']]\n",
    "df_raw_stats = pd.concat(stats)"
   ]
  },
  {
   "cell_type": "code",
   "execution_count": 25,
   "metadata": {},
   "outputs": [],
   "source": [
    "st_table = create_streamlit_table(data=df_raw_stats, PPR_adj=1, pass_td_adj=4)"
   ]
  },
  {
   "cell_type": "code",
   "execution_count": 26,
   "metadata": {},
   "outputs": [
    {
     "name": "stderr",
     "output_type": "stream",
     "text": [
      "c:\\Users\\012356.CORPORATE\\Fantasy_Football_Machine_Learning\\modeling\\predict.py:47: SettingWithCopyWarning: \n",
      "A value is trying to be set on a copy of a slice from a DataFrame.\n",
      "Try using .loc[row_indexer,col_indexer] = value instead\n",
      "\n",
      "See the caveats in the documentation: https://pandas.pydata.org/pandas-docs/stable/user_guide/indexing.html#returning-a-view-versus-a-copy\n",
      "  self.data[\"FORECAST_DATE\"] = pd.date_range(\n",
      "c:\\Users\\012356.CORPORATE\\Fantasy_Football_Machine_Learning\\modeling\\predict.py:50: SettingWithCopyWarning: \n",
      "A value is trying to be set on a copy of a slice from a DataFrame.\n",
      "Try using .loc[row_indexer,col_indexer] = value instead\n",
      "\n",
      "See the caveats in the documentation: https://pandas.pydata.org/pandas-docs/stable/user_guide/indexing.html#returning-a-view-versus-a-copy\n",
      "  self.data[\"FORECAST_DATE\"] = pd.to_datetime(\n",
      "c:\\Users\\012356.CORPORATE\\Fantasy_Football_Machine_Learning\\modeling\\predict.py:47: SettingWithCopyWarning: \n",
      "A value is trying to be set on a copy of a slice from a DataFrame.\n",
      "Try using .loc[row_indexer,col_indexer] = value instead\n",
      "\n",
      "See the caveats in the documentation: https://pandas.pydata.org/pandas-docs/stable/user_guide/indexing.html#returning-a-view-versus-a-copy\n",
      "  self.data[\"FORECAST_DATE\"] = pd.date_range(\n",
      "c:\\Users\\012356.CORPORATE\\Fantasy_Football_Machine_Learning\\modeling\\predict.py:50: SettingWithCopyWarning: \n",
      "A value is trying to be set on a copy of a slice from a DataFrame.\n",
      "Try using .loc[row_indexer,col_indexer] = value instead\n",
      "\n",
      "See the caveats in the documentation: https://pandas.pydata.org/pandas-docs/stable/user_guide/indexing.html#returning-a-view-versus-a-copy\n",
      "  self.data[\"FORECAST_DATE\"] = pd.to_datetime(\n"
     ]
    }
   ],
   "source": [
    "player_pred = [\n",
    "Predict(\n",
    "    df=st_table, player=i, steps=1, regressor=RandomForestRegressor, lags=9\n",
    ").predict_season() for i in list(set(st_table['PLAYER']))\n",
    "]"
   ]
  },
  {
   "cell_type": "code",
   "execution_count": 27,
   "metadata": {},
   "outputs": [
    {
     "data": {
      "text/html": [
       "<div>\n",
       "<style scoped>\n",
       "    .dataframe tbody tr th:only-of-type {\n",
       "        vertical-align: middle;\n",
       "    }\n",
       "\n",
       "    .dataframe tbody tr th {\n",
       "        vertical-align: top;\n",
       "    }\n",
       "\n",
       "    .dataframe thead th {\n",
       "        text-align: right;\n",
       "    }\n",
       "</style>\n",
       "<table border=\"1\" class=\"dataframe\">\n",
       "  <thead>\n",
       "    <tr style=\"text-align: right;\">\n",
       "      <th></th>\n",
       "      <th>PLAYER</th>\n",
       "      <th>Next Game(s) Projection</th>\n",
       "    </tr>\n",
       "  </thead>\n",
       "  <tbody>\n",
       "    <tr>\n",
       "      <th>0</th>\n",
       "      <td>Jared Goff</td>\n",
       "      <td>18.2136</td>\n",
       "    </tr>\n",
       "    <tr>\n",
       "      <th>1</th>\n",
       "      <td>Dak Prescott</td>\n",
       "      <td>17.8112</td>\n",
       "    </tr>\n",
       "  </tbody>\n",
       "</table>\n",
       "</div>"
      ],
      "text/plain": [
       "         PLAYER  Next Game(s) Projection\n",
       "0    Jared Goff                  18.2136\n",
       "1  Dak Prescott                  17.8112"
      ]
     },
     "execution_count": 27,
     "metadata": {},
     "output_type": "execute_result"
    }
   ],
   "source": [
    "clean_data = [row for row in player_pred if row is not None]\n",
    "df_preds = pd.DataFrame(clean_data, columns=['PLAYER', 'Next Game(s) Projection'])"
   ]
  },
  {
   "cell_type": "code",
   "execution_count": 28,
   "metadata": {},
   "outputs": [],
   "source": [
    "st_table.reset_index(inplace=True)"
   ]
  },
  {
   "cell_type": "code",
   "execution_count": 29,
   "metadata": {},
   "outputs": [
    {
     "data": {
      "text/html": [
       "<div>\n",
       "<style scoped>\n",
       "    .dataframe tbody tr th:only-of-type {\n",
       "        vertical-align: middle;\n",
       "    }\n",
       "\n",
       "    .dataframe tbody tr th {\n",
       "        vertical-align: top;\n",
       "    }\n",
       "\n",
       "    .dataframe thead th {\n",
       "        text-align: right;\n",
       "    }\n",
       "</style>\n",
       "<table border=\"1\" class=\"dataframe\">\n",
       "  <thead>\n",
       "    <tr style=\"text-align: right;\">\n",
       "      <th></th>\n",
       "      <th>PLAYER</th>\n",
       "      <th>Next Game(s) Projection</th>\n",
       "      <th>Rolling_3_Avg</th>\n",
       "      <th>Rolling_5_Avg</th>\n",
       "      <th>Rolling_8_Avg</th>\n",
       "      <th>Rolling_8_Stddev</th>\n",
       "    </tr>\n",
       "  </thead>\n",
       "  <tbody>\n",
       "    <tr>\n",
       "      <th>0</th>\n",
       "      <td>Jared Goff</td>\n",
       "      <td>18.2136</td>\n",
       "      <td>15.653333</td>\n",
       "      <td>15.216</td>\n",
       "      <td>16.745</td>\n",
       "      <td>6.543994</td>\n",
       "    </tr>\n",
       "    <tr>\n",
       "      <th>1</th>\n",
       "      <td>Dak Prescott</td>\n",
       "      <td>17.8112</td>\n",
       "      <td>18.513333</td>\n",
       "      <td>19.692</td>\n",
       "      <td>19.090</td>\n",
       "      <td>6.702750</td>\n",
       "    </tr>\n",
       "  </tbody>\n",
       "</table>\n",
       "</div>"
      ],
      "text/plain": [
       "         PLAYER  Next Game(s) Projection  Rolling_3_Avg  Rolling_5_Avg  \\\n",
       "0    Jared Goff                  18.2136      15.653333         15.216   \n",
       "1  Dak Prescott                  17.8112      18.513333         19.692   \n",
       "\n",
       "   Rolling_8_Avg  Rolling_8_Stddev  \n",
       "0         16.745          6.543994  \n",
       "1         19.090          6.702750  "
      ]
     },
     "execution_count": 29,
     "metadata": {},
     "output_type": "execute_result"
    }
   ],
   "source": [
    "create_summary_stats(data=st_table, combine_with=df_preds)"
   ]
  }
 ],
 "metadata": {
  "kernelspec": {
   "display_name": "ff_env",
   "language": "python",
   "name": "python3"
  },
  "language_info": {
   "codemirror_mode": {
    "name": "ipython",
    "version": 3
   },
   "file_extension": ".py",
   "mimetype": "text/x-python",
   "name": "python",
   "nbconvert_exporter": "python",
   "pygments_lexer": "ipython3",
   "version": "3.11.3"
  }
 },
 "nbformat": 4,
 "nbformat_minor": 2
}
