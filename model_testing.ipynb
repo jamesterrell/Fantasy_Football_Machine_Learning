{
 "cells": [
  {
   "cell_type": "code",
   "execution_count": 1,
   "metadata": {},
   "outputs": [],
   "source": [
    "import skforecast\n",
    "import pandas as pd"
   ]
  },
  {
   "cell_type": "code",
   "execution_count": 4,
   "metadata": {},
   "outputs": [
    {
     "data": {
      "text/plain": [
       "Index(['GAME_ORDER', 'YEAR', 'DATE', 'GAME_NUMBER', 'WEEK', 'PLAYER', 'AGE',\n",
       "       'TEAM', 'OPPONENT', 'RESULT', 'RUSHING_ATT', 'RUSHING_YDS',\n",
       "       'RUSHING_TD', 'RUSHING_1D', 'RUSHING_YBC', 'RUSHING_YBC_ATT',\n",
       "       'RUSHING_YAC', 'RUSHING_YAC_ATT', 'RUSHING_BRKTKL', 'RUSHING_ATT_BR',\n",
       "       'RECEIVING_TGT', 'RECEIVING_REC', 'RECEIVING_YDS', 'RECEIVING_TD',\n",
       "       'RECEIVING_1D', 'RECEIVING_YBC', 'RECEIVING_YBC_R', 'RECEIVING_YAC',\n",
       "       'RECEIVING_YAC_R', 'RECEIVING_ADOT', 'RECEIVING_BRKTKL',\n",
       "       'RECEIVING_REC_BR', 'RECEIVING_DROP', 'RECEIVING_DROP_PCT',\n",
       "       'RECEIVING_INT', 'RECEIVING_RAT', 'PASSING_CMP', 'PASSING_ATT',\n",
       "       'PASSING_CMP_PCT', 'PASSING_YDS', 'PASSING_TD', 'PASSING_INT',\n",
       "       'PASSING_RATE', 'PASSING_SK', 'PASSING_YDS1', 'PASSING_Y_A',\n",
       "       'PASSING_AY_A'],\n",
       "      dtype='object')"
      ]
     },
     "execution_count": 4,
     "metadata": {},
     "output_type": "execute_result"
    }
   ],
   "source": [
    "df = pd.read_csv('database/DIM_PLAYER_GAMES.csv')\n",
    "df_cmc = df.loc[df['PLAYER']=='Christian McCaffrey']\n",
    "df_cmc.columns"
   ]
  }
 ],
 "metadata": {
  "kernelspec": {
   "display_name": "ff_env",
   "language": "python",
   "name": "python3"
  },
  "language_info": {
   "codemirror_mode": {
    "name": "ipython",
    "version": 3
   },
   "file_extension": ".py",
   "mimetype": "text/x-python",
   "name": "python",
   "nbconvert_exporter": "python",
   "pygments_lexer": "ipython3",
   "version": "3.11.3"
  }
 },
 "nbformat": 4,
 "nbformat_minor": 2
}
