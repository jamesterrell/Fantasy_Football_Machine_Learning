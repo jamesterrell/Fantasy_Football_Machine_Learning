{
 "cells": [
  {
   "cell_type": "code",
   "execution_count": 1,
   "metadata": {},
   "outputs": [
    {
     "name": "stderr",
     "output_type": "stream",
     "text": [
      "c:\\OneDrive - TRIMEDX Holdings, LLC\\Miniconda3\\envs\\ff_env\\Lib\\site-packages\\tqdm\\auto.py:21: TqdmWarning: IProgress not found. Please update jupyter and ipywidgets. See https://ipywidgets.readthedocs.io/en/stable/user_install.html\n",
      "  from .autonotebook import tqdm as notebook_tqdm\n"
     ]
    }
   ],
   "source": [
    "import skforecast\n",
    "import pandas as pd\n",
    "import matplotlib.pyplot as plt\n",
    "plt.style.use('seaborn-v0_8-darkgrid')\n",
    "from sklearn.ensemble import RandomForestRegressor\n",
    "from sklearn.linear_model import LinearRegression\n",
    "from sklearn.metrics import mean_squared_error, mean_absolute_percentage_error\n",
    "from dateutil.relativedelta import relativedelta\n",
    "\n",
    "from skforecast.ForecasterAutoreg import ForecasterAutoreg\n",
    "from skforecast.model_selection import backtesting_forecaster\n",
    "from skforecast.model_selection import grid_search_forecaster"
   ]
  },
  {
   "cell_type": "code",
   "execution_count": 2,
   "metadata": {},
   "outputs": [
    {
     "data": {
      "text/plain": [
       "['Christian McCaffrey',\n",
       " 'Tyreek Hill',\n",
       " 'CeeDee Lamb',\n",
       " 'Josh Allen',\n",
       " 'Raheem Mostert']"
      ]
     },
     "execution_count": 2,
     "metadata": {},
     "output_type": "execute_result"
    }
   ],
   "source": [
    "df = pd.read_csv('database/DIM_PLAYER_GAMES.csv')\n",
    "test = list(df['PLAYER'].unique()[:5])\n",
    "test"
   ]
  },
  {
   "cell_type": "code",
   "execution_count": 3,
   "metadata": {},
   "outputs": [],
   "source": [
    "def time_series_convert(player: str):\n",
    "    df = pd.read_csv('database/DIM_PLAYER_GAMES.csv')\n",
    "    data = df.loc[df['PLAYER']==player]\n",
    "    data['FORECAST_DATE'] = pd.date_range(\"2018-01-01\", periods=len(data), freq=\"MS\")\n",
    "    data['FORECAST_DATE'] = pd.to_datetime(data['FORECAST_DATE'], format='%Y-%m-%d')\n",
    "    data = data.set_index('FORECAST_DATE')\n",
    "    data = data.asfreq('MS')\n",
    "    data = data['PPR']\n",
    "    return data"
   ]
  },
  {
   "cell_type": "code",
   "execution_count": 4,
   "metadata": {},
   "outputs": [
    {
     "name": "stderr",
     "output_type": "stream",
     "text": [
      "C:\\Users\\012356.CORPORATE\\AppData\\Local\\Temp\\ipykernel_27600\\923225185.py:4: SettingWithCopyWarning: \n",
      "A value is trying to be set on a copy of a slice from a DataFrame.\n",
      "Try using .loc[row_indexer,col_indexer] = value instead\n",
      "\n",
      "See the caveats in the documentation: https://pandas.pydata.org/pandas-docs/stable/user_guide/indexing.html#returning-a-view-versus-a-copy\n",
      "  data['FORECAST_DATE'] = pd.date_range(\"2018-01-01\", periods=len(data), freq=\"MS\")\n",
      "C:\\Users\\012356.CORPORATE\\AppData\\Local\\Temp\\ipykernel_27600\\923225185.py:5: SettingWithCopyWarning: \n",
      "A value is trying to be set on a copy of a slice from a DataFrame.\n",
      "Try using .loc[row_indexer,col_indexer] = value instead\n",
      "\n",
      "See the caveats in the documentation: https://pandas.pydata.org/pandas-docs/stable/user_guide/indexing.html#returning-a-view-versus-a-copy\n",
      "  data['FORECAST_DATE'] = pd.to_datetime(data['FORECAST_DATE'], format='%Y-%m-%d')\n",
      "C:\\Users\\012356.CORPORATE\\AppData\\Local\\Temp\\ipykernel_27600\\923225185.py:4: SettingWithCopyWarning: \n",
      "A value is trying to be set on a copy of a slice from a DataFrame.\n",
      "Try using .loc[row_indexer,col_indexer] = value instead\n",
      "\n",
      "See the caveats in the documentation: https://pandas.pydata.org/pandas-docs/stable/user_guide/indexing.html#returning-a-view-versus-a-copy\n",
      "  data['FORECAST_DATE'] = pd.date_range(\"2018-01-01\", periods=len(data), freq=\"MS\")\n",
      "C:\\Users\\012356.CORPORATE\\AppData\\Local\\Temp\\ipykernel_27600\\923225185.py:5: SettingWithCopyWarning: \n",
      "A value is trying to be set on a copy of a slice from a DataFrame.\n",
      "Try using .loc[row_indexer,col_indexer] = value instead\n",
      "\n",
      "See the caveats in the documentation: https://pandas.pydata.org/pandas-docs/stable/user_guide/indexing.html#returning-a-view-versus-a-copy\n",
      "  data['FORECAST_DATE'] = pd.to_datetime(data['FORECAST_DATE'], format='%Y-%m-%d')\n",
      "C:\\Users\\012356.CORPORATE\\AppData\\Local\\Temp\\ipykernel_27600\\923225185.py:4: SettingWithCopyWarning: \n",
      "A value is trying to be set on a copy of a slice from a DataFrame.\n",
      "Try using .loc[row_indexer,col_indexer] = value instead\n",
      "\n",
      "See the caveats in the documentation: https://pandas.pydata.org/pandas-docs/stable/user_guide/indexing.html#returning-a-view-versus-a-copy\n",
      "  data['FORECAST_DATE'] = pd.date_range(\"2018-01-01\", periods=len(data), freq=\"MS\")\n",
      "C:\\Users\\012356.CORPORATE\\AppData\\Local\\Temp\\ipykernel_27600\\923225185.py:5: SettingWithCopyWarning: \n",
      "A value is trying to be set on a copy of a slice from a DataFrame.\n",
      "Try using .loc[row_indexer,col_indexer] = value instead\n",
      "\n",
      "See the caveats in the documentation: https://pandas.pydata.org/pandas-docs/stable/user_guide/indexing.html#returning-a-view-versus-a-copy\n",
      "  data['FORECAST_DATE'] = pd.to_datetime(data['FORECAST_DATE'], format='%Y-%m-%d')\n",
      "C:\\Users\\012356.CORPORATE\\AppData\\Local\\Temp\\ipykernel_27600\\923225185.py:4: SettingWithCopyWarning: \n",
      "A value is trying to be set on a copy of a slice from a DataFrame.\n",
      "Try using .loc[row_indexer,col_indexer] = value instead\n",
      "\n",
      "See the caveats in the documentation: https://pandas.pydata.org/pandas-docs/stable/user_guide/indexing.html#returning-a-view-versus-a-copy\n",
      "  data['FORECAST_DATE'] = pd.date_range(\"2018-01-01\", periods=len(data), freq=\"MS\")\n",
      "C:\\Users\\012356.CORPORATE\\AppData\\Local\\Temp\\ipykernel_27600\\923225185.py:5: SettingWithCopyWarning: \n",
      "A value is trying to be set on a copy of a slice from a DataFrame.\n",
      "Try using .loc[row_indexer,col_indexer] = value instead\n",
      "\n",
      "See the caveats in the documentation: https://pandas.pydata.org/pandas-docs/stable/user_guide/indexing.html#returning-a-view-versus-a-copy\n",
      "  data['FORECAST_DATE'] = pd.to_datetime(data['FORECAST_DATE'], format='%Y-%m-%d')\n",
      "C:\\Users\\012356.CORPORATE\\AppData\\Local\\Temp\\ipykernel_27600\\923225185.py:4: SettingWithCopyWarning: \n",
      "A value is trying to be set on a copy of a slice from a DataFrame.\n",
      "Try using .loc[row_indexer,col_indexer] = value instead\n",
      "\n",
      "See the caveats in the documentation: https://pandas.pydata.org/pandas-docs/stable/user_guide/indexing.html#returning-a-view-versus-a-copy\n",
      "  data['FORECAST_DATE'] = pd.date_range(\"2018-01-01\", periods=len(data), freq=\"MS\")\n",
      "C:\\Users\\012356.CORPORATE\\AppData\\Local\\Temp\\ipykernel_27600\\923225185.py:5: SettingWithCopyWarning: \n",
      "A value is trying to be set on a copy of a slice from a DataFrame.\n",
      "Try using .loc[row_indexer,col_indexer] = value instead\n",
      "\n",
      "See the caveats in the documentation: https://pandas.pydata.org/pandas-docs/stable/user_guide/indexing.html#returning-a-view-versus-a-copy\n",
      "  data['FORECAST_DATE'] = pd.to_datetime(data['FORECAST_DATE'], format='%Y-%m-%d')\n"
     ]
    },
    {
     "data": {
      "text/html": [
       "<div>\n",
       "<style scoped>\n",
       "    .dataframe tbody tr th:only-of-type {\n",
       "        vertical-align: middle;\n",
       "    }\n",
       "\n",
       "    .dataframe tbody tr th {\n",
       "        vertical-align: top;\n",
       "    }\n",
       "\n",
       "    .dataframe thead th {\n",
       "        text-align: right;\n",
       "    }\n",
       "</style>\n",
       "<table border=\"1\" class=\"dataframe\">\n",
       "  <thead>\n",
       "    <tr style=\"text-align: right;\">\n",
       "      <th></th>\n",
       "      <th>PLAYER</th>\n",
       "      <th>data</th>\n",
       "    </tr>\n",
       "  </thead>\n",
       "  <tbody>\n",
       "    <tr>\n",
       "      <th>0</th>\n",
       "      <td>Christian McCaffrey</td>\n",
       "      <td>FORECAST_DATE\n",
       "2018-01-01    15.5\n",
       "2018-02-01   ...</td>\n",
       "    </tr>\n",
       "    <tr>\n",
       "      <th>1</th>\n",
       "      <td>Tyreek Hill</td>\n",
       "      <td>FORECAST_DATE\n",
       "2018-01-01    36.3\n",
       "2018-02-01   ...</td>\n",
       "    </tr>\n",
       "    <tr>\n",
       "      <th>2</th>\n",
       "      <td>CeeDee Lamb</td>\n",
       "      <td>FORECAST_DATE\n",
       "2018-01-01    10.9\n",
       "2018-02-01   ...</td>\n",
       "    </tr>\n",
       "    <tr>\n",
       "      <th>3</th>\n",
       "      <td>Josh Allen</td>\n",
       "      <td>FORECAST_DATE\n",
       "2018-01-01    17.00\n",
       "2018-02-01  ...</td>\n",
       "    </tr>\n",
       "    <tr>\n",
       "      <th>4</th>\n",
       "      <td>Raheem Mostert</td>\n",
       "      <td>FORECAST_DATE\n",
       "2018-01-01    25.1\n",
       "2018-02-01   ...</td>\n",
       "    </tr>\n",
       "  </tbody>\n",
       "</table>\n",
       "</div>"
      ],
      "text/plain": [
       "                PLAYER                                               data\n",
       "0  Christian McCaffrey  FORECAST_DATE\n",
       "2018-01-01    15.5\n",
       "2018-02-01   ...\n",
       "1          Tyreek Hill  FORECAST_DATE\n",
       "2018-01-01    36.3\n",
       "2018-02-01   ...\n",
       "2          CeeDee Lamb  FORECAST_DATE\n",
       "2018-01-01    10.9\n",
       "2018-02-01   ...\n",
       "3           Josh Allen  FORECAST_DATE\n",
       "2018-01-01    17.00\n",
       "2018-02-01  ...\n",
       "4       Raheem Mostert  FORECAST_DATE\n",
       "2018-01-01    25.1\n",
       "2018-02-01   ..."
      ]
     },
     "execution_count": 4,
     "metadata": {},
     "output_type": "execute_result"
    }
   ],
   "source": [
    "df_multi = pd.DataFrame(test, columns=['PLAYER'])\n",
    "df_multi['data'] = df_multi['PLAYER'].map(lambda x :time_series_convert(x))\n",
    "df_multi"
   ]
  },
  {
   "cell_type": "code",
   "execution_count": 5,
   "metadata": {},
   "outputs": [],
   "source": [
    "forecaster = ForecasterAutoreg(\n",
    "                 regressor = LinearRegression(),\n",
    "                 lags      = 17\n",
    "             )\n"
   ]
  },
  {
   "cell_type": "code",
   "execution_count": 6,
   "metadata": {},
   "outputs": [
    {
     "ename": "ValueError",
     "evalue": "The maximum lag (17) must be less than the length of the series (17).",
     "output_type": "error",
     "traceback": [
      "\u001b[1;31m---------------------------------------------------------------------------\u001b[0m",
      "\u001b[1;31mValueError\u001b[0m                                Traceback (most recent call last)",
      "Cell \u001b[1;32mIn[6], line 1\u001b[0m\n\u001b[1;32m----> 1\u001b[0m df_multi[\u001b[38;5;124m'\u001b[39m\u001b[38;5;124mforecaster\u001b[39m\u001b[38;5;124m'\u001b[39m] \u001b[38;5;241m=\u001b[39m df_multi[\u001b[38;5;124m'\u001b[39m\u001b[38;5;124mdata\u001b[39m\u001b[38;5;124m'\u001b[39m]\u001b[38;5;241m.\u001b[39mmap(\u001b[38;5;28;01mlambda\u001b[39;00m x : forecaster\u001b[38;5;241m.\u001b[39mfit(y\u001b[38;5;241m=\u001b[39mx\u001b[38;5;241m.\u001b[39mloc[:\u001b[38;5;28mmax\u001b[39m(x\u001b[38;5;241m.\u001b[39mindex) \u001b[38;5;241m-\u001b[39m relativedelta(months\u001b[38;5;241m=\u001b[39m\u001b[38;5;241m18\u001b[39m)]))\n\u001b[0;32m      2\u001b[0m df_multi\n",
      "File \u001b[1;32mc:\\OneDrive - TRIMEDX Holdings, LLC\\Miniconda3\\envs\\ff_env\\Lib\\site-packages\\pandas\\core\\series.py:4539\u001b[0m, in \u001b[0;36mSeries.map\u001b[1;34m(self, arg, na_action)\u001b[0m\n\u001b[0;32m   4460\u001b[0m \u001b[38;5;28;01mdef\u001b[39;00m \u001b[38;5;21mmap\u001b[39m(\n\u001b[0;32m   4461\u001b[0m     \u001b[38;5;28mself\u001b[39m,\n\u001b[0;32m   4462\u001b[0m     arg: Callable \u001b[38;5;241m|\u001b[39m Mapping \u001b[38;5;241m|\u001b[39m Series,\n\u001b[0;32m   4463\u001b[0m     na_action: Literal[\u001b[38;5;124m\"\u001b[39m\u001b[38;5;124mignore\u001b[39m\u001b[38;5;124m\"\u001b[39m] \u001b[38;5;241m|\u001b[39m \u001b[38;5;28;01mNone\u001b[39;00m \u001b[38;5;241m=\u001b[39m \u001b[38;5;28;01mNone\u001b[39;00m,\n\u001b[0;32m   4464\u001b[0m ) \u001b[38;5;241m-\u001b[39m\u001b[38;5;241m>\u001b[39m Series:\n\u001b[0;32m   4465\u001b[0m \u001b[38;5;250m    \u001b[39m\u001b[38;5;124;03m\"\"\"\u001b[39;00m\n\u001b[0;32m   4466\u001b[0m \u001b[38;5;124;03m    Map values of Series according to an input mapping or function.\u001b[39;00m\n\u001b[0;32m   4467\u001b[0m \n\u001b[1;32m   (...)\u001b[0m\n\u001b[0;32m   4537\u001b[0m \u001b[38;5;124;03m    dtype: object\u001b[39;00m\n\u001b[0;32m   4538\u001b[0m \u001b[38;5;124;03m    \"\"\"\u001b[39;00m\n\u001b[1;32m-> 4539\u001b[0m     new_values \u001b[38;5;241m=\u001b[39m \u001b[38;5;28mself\u001b[39m\u001b[38;5;241m.\u001b[39m_map_values(arg, na_action\u001b[38;5;241m=\u001b[39mna_action)\n\u001b[0;32m   4540\u001b[0m     \u001b[38;5;28;01mreturn\u001b[39;00m \u001b[38;5;28mself\u001b[39m\u001b[38;5;241m.\u001b[39m_constructor(new_values, index\u001b[38;5;241m=\u001b[39m\u001b[38;5;28mself\u001b[39m\u001b[38;5;241m.\u001b[39mindex)\u001b[38;5;241m.\u001b[39m__finalize__(\n\u001b[0;32m   4541\u001b[0m         \u001b[38;5;28mself\u001b[39m, method\u001b[38;5;241m=\u001b[39m\u001b[38;5;124m\"\u001b[39m\u001b[38;5;124mmap\u001b[39m\u001b[38;5;124m\"\u001b[39m\n\u001b[0;32m   4542\u001b[0m     )\n",
      "File \u001b[1;32mc:\\OneDrive - TRIMEDX Holdings, LLC\\Miniconda3\\envs\\ff_env\\Lib\\site-packages\\pandas\\core\\base.py:890\u001b[0m, in \u001b[0;36mIndexOpsMixin._map_values\u001b[1;34m(self, mapper, na_action)\u001b[0m\n\u001b[0;32m    887\u001b[0m         \u001b[38;5;28;01mraise\u001b[39;00m \u001b[38;5;167;01mValueError\u001b[39;00m(msg)\n\u001b[0;32m    889\u001b[0m \u001b[38;5;66;03m# mapper is a function\u001b[39;00m\n\u001b[1;32m--> 890\u001b[0m new_values \u001b[38;5;241m=\u001b[39m map_f(values, mapper)\n\u001b[0;32m    892\u001b[0m \u001b[38;5;28;01mreturn\u001b[39;00m new_values\n",
      "File \u001b[1;32mc:\\OneDrive - TRIMEDX Holdings, LLC\\Miniconda3\\envs\\ff_env\\Lib\\site-packages\\pandas\\_libs\\lib.pyx:2924\u001b[0m, in \u001b[0;36mpandas._libs.lib.map_infer\u001b[1;34m()\u001b[0m\n",
      "Cell \u001b[1;32mIn[6], line 1\u001b[0m, in \u001b[0;36m<lambda>\u001b[1;34m(x)\u001b[0m\n\u001b[1;32m----> 1\u001b[0m df_multi[\u001b[38;5;124m'\u001b[39m\u001b[38;5;124mforecaster\u001b[39m\u001b[38;5;124m'\u001b[39m] \u001b[38;5;241m=\u001b[39m df_multi[\u001b[38;5;124m'\u001b[39m\u001b[38;5;124mdata\u001b[39m\u001b[38;5;124m'\u001b[39m]\u001b[38;5;241m.\u001b[39mmap(\u001b[38;5;28;01mlambda\u001b[39;00m x : forecaster\u001b[38;5;241m.\u001b[39mfit(y\u001b[38;5;241m=\u001b[39mx\u001b[38;5;241m.\u001b[39mloc[:\u001b[38;5;28mmax\u001b[39m(x\u001b[38;5;241m.\u001b[39mindex) \u001b[38;5;241m-\u001b[39m relativedelta(months\u001b[38;5;241m=\u001b[39m\u001b[38;5;241m18\u001b[39m)]))\n\u001b[0;32m      2\u001b[0m df_multi\n",
      "File \u001b[1;32mc:\\OneDrive - TRIMEDX Holdings, LLC\\Miniconda3\\envs\\ff_env\\Lib\\site-packages\\skforecast\\ForecasterAutoreg\\ForecasterAutoreg.py:523\u001b[0m, in \u001b[0;36mForecasterAutoreg.fit\u001b[1;34m(self, y, exog, store_in_sample_residuals)\u001b[0m\n\u001b[0;32m    519\u001b[0m     \u001b[38;5;28mself\u001b[39m\u001b[38;5;241m.\u001b[39mexog_type \u001b[38;5;241m=\u001b[39m \u001b[38;5;28mtype\u001b[39m(exog)\n\u001b[0;32m    520\u001b[0m     \u001b[38;5;28mself\u001b[39m\u001b[38;5;241m.\u001b[39mexog_col_names \u001b[38;5;241m=\u001b[39m \\\n\u001b[0;32m    521\u001b[0m          exog\u001b[38;5;241m.\u001b[39mcolumns\u001b[38;5;241m.\u001b[39mto_list() \u001b[38;5;28;01mif\u001b[39;00m \u001b[38;5;28misinstance\u001b[39m(exog, pd\u001b[38;5;241m.\u001b[39mDataFrame) \u001b[38;5;28;01melse\u001b[39;00m exog\u001b[38;5;241m.\u001b[39mname\n\u001b[1;32m--> 523\u001b[0m X_train, y_train \u001b[38;5;241m=\u001b[39m \u001b[38;5;28mself\u001b[39m\u001b[38;5;241m.\u001b[39mcreate_train_X_y(y\u001b[38;5;241m=\u001b[39my, exog\u001b[38;5;241m=\u001b[39mexog)\n\u001b[0;32m    524\u001b[0m sample_weight \u001b[38;5;241m=\u001b[39m \u001b[38;5;28mself\u001b[39m\u001b[38;5;241m.\u001b[39mcreate_sample_weights(X_train\u001b[38;5;241m=\u001b[39mX_train)\n\u001b[0;32m    526\u001b[0m \u001b[38;5;28;01mif\u001b[39;00m sample_weight \u001b[38;5;129;01mis\u001b[39;00m \u001b[38;5;129;01mnot\u001b[39;00m \u001b[38;5;28;01mNone\u001b[39;00m:\n",
      "File \u001b[1;32mc:\\OneDrive - TRIMEDX Holdings, LLC\\Miniconda3\\envs\\ff_env\\Lib\\site-packages\\skforecast\\ForecasterAutoreg\\ForecasterAutoreg.py:402\u001b[0m, in \u001b[0;36mForecasterAutoreg.create_train_X_y\u001b[1;34m(self, y, exog)\u001b[0m\n\u001b[0;32m    396\u001b[0m     \u001b[38;5;28;01mif\u001b[39;00m \u001b[38;5;129;01mnot\u001b[39;00m (exog_index[:\u001b[38;5;28mlen\u001b[39m(y_index)] \u001b[38;5;241m==\u001b[39m y_index)\u001b[38;5;241m.\u001b[39mall():\n\u001b[0;32m    397\u001b[0m         \u001b[38;5;28;01mraise\u001b[39;00m \u001b[38;5;167;01mValueError\u001b[39;00m(\n\u001b[0;32m    398\u001b[0m             (\u001b[38;5;124m\"\u001b[39m\u001b[38;5;124mDifferent index for `y` and `exog`. They must be equal \u001b[39m\u001b[38;5;124m\"\u001b[39m\n\u001b[0;32m    399\u001b[0m              \u001b[38;5;124m\"\u001b[39m\u001b[38;5;124mto ensure the correct alignment of values.\u001b[39m\u001b[38;5;124m\"\u001b[39m)\n\u001b[0;32m    400\u001b[0m         )\n\u001b[1;32m--> 402\u001b[0m X_train, y_train \u001b[38;5;241m=\u001b[39m \u001b[38;5;28mself\u001b[39m\u001b[38;5;241m.\u001b[39m_create_lags(y\u001b[38;5;241m=\u001b[39my_values)\n\u001b[0;32m    403\u001b[0m X_train_col_names \u001b[38;5;241m=\u001b[39m [\u001b[38;5;124mf\u001b[39m\u001b[38;5;124m\"\u001b[39m\u001b[38;5;124mlag_\u001b[39m\u001b[38;5;132;01m{\u001b[39;00mi\u001b[38;5;132;01m}\u001b[39;00m\u001b[38;5;124m\"\u001b[39m \u001b[38;5;28;01mfor\u001b[39;00m i \u001b[38;5;129;01min\u001b[39;00m \u001b[38;5;28mself\u001b[39m\u001b[38;5;241m.\u001b[39mlags]\n\u001b[0;32m    404\u001b[0m X_train \u001b[38;5;241m=\u001b[39m pd\u001b[38;5;241m.\u001b[39mDataFrame(\n\u001b[0;32m    405\u001b[0m               data    \u001b[38;5;241m=\u001b[39m X_train,\n\u001b[0;32m    406\u001b[0m               columns \u001b[38;5;241m=\u001b[39m X_train_col_names,\n\u001b[0;32m    407\u001b[0m               index   \u001b[38;5;241m=\u001b[39m y_index[\u001b[38;5;28mself\u001b[39m\u001b[38;5;241m.\u001b[39mmax_lag: ]\n\u001b[0;32m    408\u001b[0m           )\n",
      "File \u001b[1;32mc:\\OneDrive - TRIMEDX Holdings, LLC\\Miniconda3\\envs\\ff_env\\Lib\\site-packages\\skforecast\\ForecasterAutoreg\\ForecasterAutoreg.py:314\u001b[0m, in \u001b[0;36mForecasterAutoreg._create_lags\u001b[1;34m(self, y)\u001b[0m\n\u001b[0;32m    312\u001b[0m n_splits \u001b[38;5;241m=\u001b[39m \u001b[38;5;28mlen\u001b[39m(y) \u001b[38;5;241m-\u001b[39m \u001b[38;5;28mself\u001b[39m\u001b[38;5;241m.\u001b[39mmax_lag\n\u001b[0;32m    313\u001b[0m \u001b[38;5;28;01mif\u001b[39;00m n_splits \u001b[38;5;241m<\u001b[39m\u001b[38;5;241m=\u001b[39m \u001b[38;5;241m0\u001b[39m:\n\u001b[1;32m--> 314\u001b[0m     \u001b[38;5;28;01mraise\u001b[39;00m \u001b[38;5;167;01mValueError\u001b[39;00m(\n\u001b[0;32m    315\u001b[0m         (\u001b[38;5;124mf\u001b[39m\u001b[38;5;124m\"\u001b[39m\u001b[38;5;124mThe maximum lag (\u001b[39m\u001b[38;5;132;01m{\u001b[39;00m\u001b[38;5;28mself\u001b[39m\u001b[38;5;241m.\u001b[39mmax_lag\u001b[38;5;132;01m}\u001b[39;00m\u001b[38;5;124m) must be less than the length \u001b[39m\u001b[38;5;124m\"\u001b[39m\n\u001b[0;32m    316\u001b[0m          \u001b[38;5;124mf\u001b[39m\u001b[38;5;124m\"\u001b[39m\u001b[38;5;124mof the series (\u001b[39m\u001b[38;5;132;01m{\u001b[39;00m\u001b[38;5;28mlen\u001b[39m(y)\u001b[38;5;132;01m}\u001b[39;00m\u001b[38;5;124m).\u001b[39m\u001b[38;5;124m\"\u001b[39m)\n\u001b[0;32m    317\u001b[0m     )\n\u001b[0;32m    319\u001b[0m X_data \u001b[38;5;241m=\u001b[39m np\u001b[38;5;241m.\u001b[39mfull(shape\u001b[38;5;241m=\u001b[39m(n_splits, \u001b[38;5;28mlen\u001b[39m(\u001b[38;5;28mself\u001b[39m\u001b[38;5;241m.\u001b[39mlags)), fill_value\u001b[38;5;241m=\u001b[39mnp\u001b[38;5;241m.\u001b[39mnan, dtype\u001b[38;5;241m=\u001b[39m\u001b[38;5;28mfloat\u001b[39m)\n\u001b[0;32m    321\u001b[0m \u001b[38;5;28;01mfor\u001b[39;00m i, lag \u001b[38;5;129;01min\u001b[39;00m \u001b[38;5;28menumerate\u001b[39m(\u001b[38;5;28mself\u001b[39m\u001b[38;5;241m.\u001b[39mlags):\n",
      "\u001b[1;31mValueError\u001b[0m: The maximum lag (17) must be less than the length of the series (17)."
     ]
    }
   ],
   "source": [
    "df_multi['forecaster'] = df_multi['data'].map(lambda x : forecaster.fit(y=x.loc[:max(x.index) - relativedelta(months=18)]))\n",
    "df_multi\n"
   ]
  }
 ],
 "metadata": {
  "kernelspec": {
   "display_name": "ff_env",
   "language": "python",
   "name": "python3"
  },
  "language_info": {
   "codemirror_mode": {
    "name": "ipython",
    "version": 3
   },
   "file_extension": ".py",
   "mimetype": "text/x-python",
   "name": "python",
   "nbconvert_exporter": "python",
   "pygments_lexer": "ipython3",
   "version": "3.11.3"
  }
 },
 "nbformat": 4,
 "nbformat_minor": 2
}
