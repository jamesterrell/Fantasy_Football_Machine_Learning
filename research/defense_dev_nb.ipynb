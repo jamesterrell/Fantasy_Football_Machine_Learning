{
 "cells": [
  {
   "cell_type": "code",
   "execution_count": 1,
   "metadata": {},
   "outputs": [],
   "source": [
    "import pandas as pd\n",
    "pd.set_option('display.max_columns', 70)\n",
    "from database.scrape import scrape_defense\n",
    "import time"
   ]
  },
  {
   "cell_type": "code",
   "execution_count": null,
   "metadata": {},
   "outputs": [],
   "source": [
    "df_tms = pd.read_csv(r'database\\DIM_PLAYER_GAMES.csv')\n",
    "replace_dict = {\n",
    "    \"RAV\": \"BAL\",\n",
    "    \"RAM\": \"LAR\",\n",
    "    \"OTI\": \"TEN\",\n",
    "    \"HTX\": \"HOU\",\n",
    "    \"SDG\": \"LAC\",\n",
    "    \"RAI\": \"LVR\",\n",
    "    \"CRD\": \"ARI\",\n",
    "    \"CLT\": \"IND\",\n",
    "}\n",
    "switched_dict = {value.lower(): key.lower() for key, value in replace_dict.items()}\n",
    "teams = df_tms[['TEAM']].drop_duplicates()\n",
    "teams['TEAM'] = teams['TEAM'].str.lower()\n",
    "teams.replace(switched_dict, inplace=True)\n",
    "teams_list = list(teams['TEAM'])\n",
    "years = [2024]\n",
    "dfs = []\n",
    "for year in years:\n",
    "    for team in teams_list:\n",
    "        try:\n",
    "            df_tm = scrape_defense(year=year, defense=team)\n",
    "            dfs.append(df_tm)\n",
    "            time.sleep(6.1)\n",
    "        except ValueError:\n",
    "            print(f'no table found for team code \"{team}\"')\n",
    "dfns_training = pd.concat(dfs)\n",
    "dfns_training.dropna(inplace=True)\n",
    "dfns_training.replace(replace_dict, inplace=True)\n",
    "dfns_training.to_csv(r'database/DIM_DEFENSE.csv', mode='a', header=False)"
   ]
  },
  {
   "cell_type": "code",
   "execution_count": 11,
   "metadata": {},
   "outputs": [],
   "source": [
    "# dfns_training.to_csv(r'database/DIM_DEFENSE.csv', mode='a', header=False)"
   ]
  }
 ],
 "metadata": {
  "kernelspec": {
   "display_name": "ff_env",
   "language": "python",
   "name": "python3"
  },
  "language_info": {
   "codemirror_mode": {
    "name": "ipython",
    "version": 3
   },
   "file_extension": ".py",
   "mimetype": "text/x-python",
   "name": "python",
   "nbconvert_exporter": "python",
   "pygments_lexer": "ipython3",
   "version": "3.11.3"
  }
 },
 "nbformat": 4,
 "nbformat_minor": 2
}
