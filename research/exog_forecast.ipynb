{
 "cells": [
  {
   "cell_type": "code",
   "execution_count": 1,
   "metadata": {},
   "outputs": [],
   "source": [
    "import matplotlib.pyplot as plt\n",
    "from modeling.evaluate import Evaluate\n",
    "import xgboost as xgb\n",
    "import warnings\n",
    "import pandas as pd\n",
    "warnings.simplefilter(action=\"ignore\")\n",
    "plt.style.use(\"seaborn-v0_8-darkgrid\")\n"
   ]
  },
  {
   "cell_type": "code",
   "execution_count": 2,
   "metadata": {},
   "outputs": [],
   "source": [
    "df = pd.read_csv('database/DIM_PLAYER_GAMES.csv')\n",
    "df_dfns = pd.read_csv('database/DIM_DEFENSE.csv').drop(columns='Unnamed: 0')"
   ]
  },
  {
   "cell_type": "code",
   "execution_count": 3,
   "metadata": {},
   "outputs": [],
   "source": [
    "replace_dict = {\n",
    "    \"RAV\": \"BAL\",\n",
    "    \"RAM\": \"LAR\",\n",
    "    \"OTI\": \"TEN\",\n",
    "    \"HTX\": \"HOU\",\n",
    "    \"SDG\": \"LAC\",\n",
    "    \"RAI\": \"LVR\",\n",
    "    \"CRD\": \"ARI\",\n",
    "    \"CLT\": \"IND\",\n",
    "}"
   ]
  },
  {
   "cell_type": "code",
   "execution_count": 4,
   "metadata": {},
   "outputs": [],
   "source": [
    "df_dfns.replace(replace_dict, inplace=True)"
   ]
  },
  {
   "cell_type": "code",
   "execution_count": 5,
   "metadata": {},
   "outputs": [
    {
     "data": {
      "text/plain": [
       "Index(['DEF_TEAM', 'YEAR', 'WEEK', 'SCORE_OPP', 'PASSING_CMP', 'PASSING_ATT',\n",
       "       'PASSING_YDS', 'PASSING_TD', 'PASSING_INT', 'PASSING_SK', 'PASSING_Y_A',\n",
       "       'PASSING_NY_A', 'PASSING_CMP_PCT', 'PASSING_RATE', 'RUSHING_ATT',\n",
       "       'RUSHING_YDS', 'RUSHING_Y_A', 'RUSHING_TD'],\n",
       "      dtype='object')"
      ]
     },
     "execution_count": 5,
     "metadata": {},
     "output_type": "execute_result"
    }
   ],
   "source": [
    "df_dfns.columns"
   ]
  },
  {
   "cell_type": "code",
   "execution_count": 6,
   "metadata": {},
   "outputs": [],
   "source": [
    "df_dfns_yearly = df_dfns.groupby(['DEF_TEAM', 'YEAR'])['SCORE_OPP', 'PASSING_CMP', 'PASSING_ATT',\n",
    "       'PASSING_YDS', 'PASSING_TD', 'PASSING_INT', 'PASSING_SK', 'PASSING_Y_A',\n",
    "       'PASSING_NY_A', 'PASSING_CMP_PCT', 'PASSING_RATE', 'RUSHING_ATT',\n",
    "       'RUSHING_YDS', 'RUSHING_Y_A', 'RUSHING_TD'].mean().reset_index()\n"
   ]
  },
  {
   "cell_type": "code",
   "execution_count": 7,
   "metadata": {},
   "outputs": [],
   "source": [
    "df_dfns_yearly.columns = [f\"{col}_DEFST\" if col not in ['DEF_TEAM', 'YEAR'] else col for col in df_dfns_yearly.columns]\n",
    "df_dfns_yearly['JOIN_YEAR'] = df_dfns_yearly['YEAR'] + 1"
   ]
  },
  {
   "cell_type": "code",
   "execution_count": 8,
   "metadata": {},
   "outputs": [],
   "source": [
    "df_dfns_yearly['QB_WR_PTS_DEFST'] = df_dfns_yearly['PASSING_TD_DEFST']*6+df_dfns_yearly['PASSING_YDS_DEFST']/10+df_dfns_yearly['PASSING_CMP_DEFST']\n",
    "df_dfns_yearly['RB_PTS_DEFST'] = df_dfns_yearly['RUSHING_TD_DEFST']*6+df_dfns_yearly['RUSHING_YDS_DEFST']/10"
   ]
  },
  {
   "cell_type": "code",
   "execution_count": 9,
   "metadata": {},
   "outputs": [],
   "source": [
    "df_dfns_yearly['DEF_RANK'] = df_dfns_yearly.groupby(['YEAR'])['SCORE_OPP_DEFST'].rank(method='min')\n",
    "df_dfns_yearly['QB_WR_DEF_RANK'] = df_dfns_yearly.groupby(['YEAR'])['QB_WR_PTS_DEFST'].rank(method='min')\n",
    "df_dfns_yearly['RB_DEF_RANK'] = df_dfns_yearly.groupby(['YEAR'])['RB_PTS_DEFST'].rank(method='min')"
   ]
  },
  {
   "cell_type": "code",
   "execution_count": 10,
   "metadata": {},
   "outputs": [
    {
     "data": {
      "text/plain": [
       "Index(['DEF_TEAM', 'YEAR', 'SCORE_OPP_DEFST', 'PASSING_CMP_DEFST',\n",
       "       'PASSING_ATT_DEFST', 'PASSING_YDS_DEFST', 'PASSING_TD_DEFST',\n",
       "       'PASSING_INT_DEFST', 'PASSING_SK_DEFST', 'PASSING_Y_A_DEFST',\n",
       "       'PASSING_NY_A_DEFST', 'PASSING_CMP_PCT_DEFST', 'PASSING_RATE_DEFST',\n",
       "       'RUSHING_ATT_DEFST', 'RUSHING_YDS_DEFST', 'RUSHING_Y_A_DEFST',\n",
       "       'RUSHING_TD_DEFST', 'JOIN_YEAR', 'QB_WR_PTS_DEFST', 'RB_PTS_DEFST',\n",
       "       'DEF_RANK', 'QB_WR_DEF_RANK', 'RB_DEF_RANK'],\n",
       "      dtype='object')"
      ]
     },
     "execution_count": 10,
     "metadata": {},
     "output_type": "execute_result"
    }
   ],
   "source": [
    "df_dfns_yearly.columns"
   ]
  },
  {
   "cell_type": "code",
   "execution_count": 11,
   "metadata": {},
   "outputs": [],
   "source": [
    "df_comb = pd.merge(df, df_dfns_yearly.drop(columns=['YEAR']), how='inner', left_on=['YEAR', 'OPPONENT'], right_on=['JOIN_YEAR', 'DEF_TEAM']).sort_values(by=['PLAYER', 'DATE'])"
   ]
  },
  {
   "cell_type": "code",
   "execution_count": 61,
   "metadata": {},
   "outputs": [
    {
     "name": "stdout",
     "output_type": "stream",
     "text": [
      "Not enough data. Adjusting lags for Sam LaPorta.\n",
      "Not enough data. Adjusting steps for Jahan Dotson.\n",
      "Not enough data. Adjusting lags for Zay Flowers.\n",
      "Not enough data. Adjusting lags for Aidan O'Connell.\n",
      "Not enough data. Adjusting steps for Christian Watson.\n",
      "Not enough data. Adjusting steps for Ty Chandler.\n",
      "Not enough data. Adjusting lags for Puka Nacua.\n",
      "Not enough data. Adjusting steps for Isaiah Likely.\n",
      "Not enough data. Adjusting steps for Brian Robinson Jr..\n",
      "Not enough data. Adjusting lags for Josh Downs.\n",
      "Not enough data. Adjusting lags for Jaleel McLaughlin.\n",
      "Not enough data. Adjusting steps for Desmond Ridder.\n",
      "Not enough data. Adjusting lags for Tommy DeVito.\n",
      "Not enough data. Adjusting lags for Anthony Richardson.\n",
      "Not enough data. Adjusting steps for Nick Mullens.\n",
      "Not enough data. Adjusting steps for Jordan Love.\n",
      "Not enough data. Adjusting lags for Rashee Rice.\n",
      "Not enough data. Adjusting steps for Drake London.\n",
      "Not enough data. Adjusting lags for Michael Wilson.\n",
      "Not enough data. Adjusting lags for Joshua Dobbs.\n",
      "Not enough data. Adjusting lags for Jahmyr Gibbs.\n",
      "Not enough data. Adjusting lags for Roschon Johnson.\n",
      "Not enough data. Adjusting steps for Taylor Heinicke.\n",
      "Not enough data. Adjusting steps for Brock Purdy.\n",
      "Not enough data. Adjusting steps for Khalil Shakir.\n",
      "Not enough data. Adjusting steps for Chris Olave.\n",
      "Not enough data. Adjusting steps for Cade Otton.\n",
      "Not enough data. Adjusting lags for De'Von Achane.\n",
      "Not enough data. Adjusting lags for Jake Browning.\n",
      "Not enough data. Adjusting lags for Easton Stick.\n",
      "Not enough data. Adjusting steps for Kenneth Walker III.\n",
      "Not enough data. Adjusting lags for Jaxon Smith-Njigba.\n",
      "Not enough data. Adjusting steps for Wan'Dale Robinson.\n",
      "Not enough data. Adjusting steps for James Cook.\n",
      "Not enough data. Adjusting lags for Jordan Addison.\n",
      "Not enough data. Adjusting lags for Zach Charbonnet.\n",
      "Not enough data. Adjusting steps for Trey McBride.\n",
      "Not enough data. Adjusting lags for Dalton Kincaid.\n",
      "Not enough data. Adjusting lags for Bailey Zappe.\n",
      "Not enough data. Adjusting lags for Will Levis.\n",
      "Not enough data. Adjusting steps for Breece Hall.\n",
      "Not enough data. Adjusting steps for Joe Flacco.\n",
      "Not enough data. Adjusting lags for C.J. Stroud.\n",
      "Not enough data. Adjusting steps for Jaylen Warren.\n",
      "Not enough data. Adjusting lags for Tank Dell.\n",
      "Not enough data. Adjusting steps for Isiah Pacheco.\n",
      "Not enough data. Adjusting steps for Tyrod Taylor.\n",
      "Not enough data. Adjusting lags for Jayden Reed.\n",
      "Not enough data. Adjusting steps for Dameon Pierce.\n",
      "Not enough data. Adjusting lags for Bijan Robinson.\n",
      "Not enough data. Adjusting steps for Jerome Ford.\n",
      "Not enough data. Adjusting steps for Rashid Shaheed.\n",
      "Not enough data. Adjusting steps for Kenny Pickett.\n",
      "Not enough data. Adjusting lags for Dontayvion Wicks.\n",
      "Not enough data. Adjusting lags for Tyjae Spears.\n",
      "Not enough data. Adjusting steps for Jake Ferguson.\n",
      "Not enough data. Adjusting lags for Bryce Young.\n",
      "Not enough data. Adjusting steps for Romeo Doubs.\n",
      "Not enough data. Adjusting steps for Tyler Allgeier.\n",
      "Not enough data. Adjusting steps for Sam Howell.\n",
      "Not enough data. Adjusting steps for Kyren Williams.\n"
     ]
    }
   ],
   "source": [
    "top_180_eval = [\n",
    "    Evaluate(\n",
    "        df=df_comb,\n",
    "        player=name,\n",
    "        steps=17,\n",
    "        regressor=xgb.XGBRFRegressor(random_state=123),\n",
    "        lags=9,\n",
    "        exogs=[\"QB_WR_DEF_RANK\", \"RB_DEF_RANK\", \"DEF_RANK\"],\n",
    "    ).eval()\n",
    "    for name in list(set(df[\"PLAYER\"]))\n",
    "]\n",
    "\n",
    "df_top_180 = pd.concat(top_180_eval)"
   ]
  },
  {
   "cell_type": "code",
   "execution_count": 62,
   "metadata": {},
   "outputs": [
    {
     "data": {
      "text/html": [
       "<div>\n",
       "<style scoped>\n",
       "    .dataframe tbody tr th:only-of-type {\n",
       "        vertical-align: middle;\n",
       "    }\n",
       "\n",
       "    .dataframe tbody tr th {\n",
       "        vertical-align: top;\n",
       "    }\n",
       "\n",
       "    .dataframe thead th {\n",
       "        text-align: right;\n",
       "    }\n",
       "</style>\n",
       "<table border=\"1\" class=\"dataframe\">\n",
       "  <thead>\n",
       "    <tr style=\"text-align: right;\">\n",
       "      <th></th>\n",
       "      <th>PLAYER</th>\n",
       "      <th>ACTUAL SEASON TOTAL</th>\n",
       "      <th>PREDICTED</th>\n",
       "      <th>SEASON MAPE</th>\n",
       "      <th>GAME MAPE</th>\n",
       "      <th>GAME RSME</th>\n",
       "      <th>GAMES PREDICTED</th>\n",
       "      <th>LAGS</th>\n",
       "      <th>REGRESSOR</th>\n",
       "    </tr>\n",
       "  </thead>\n",
       "  <tbody>\n",
       "    <tr>\n",
       "      <th>0</th>\n",
       "      <td>Josh Allen</td>\n",
       "      <td>430.64</td>\n",
       "      <td>433.622313</td>\n",
       "      <td>0.006925</td>\n",
       "      <td>2.257320e-01</td>\n",
       "      <td>7.065988</td>\n",
       "      <td>17</td>\n",
       "      <td>9</td>\n",
       "      <td>XGBRFRegressor(base_score=None, booster=None, ...</td>\n",
       "    </tr>\n",
       "    <tr>\n",
       "      <th>0</th>\n",
       "      <td>Christian McCaffrey</td>\n",
       "      <td>412.20</td>\n",
       "      <td>360.181196</td>\n",
       "      <td>0.126198</td>\n",
       "      <td>2.426095e-01</td>\n",
       "      <td>9.532918</td>\n",
       "      <td>17</td>\n",
       "      <td>9</td>\n",
       "      <td>XGBRFRegressor(base_score=None, booster=None, ...</td>\n",
       "    </tr>\n",
       "    <tr>\n",
       "      <th>0</th>\n",
       "      <td>CeeDee Lamb</td>\n",
       "      <td>405.20</td>\n",
       "      <td>243.686300</td>\n",
       "      <td>0.398602</td>\n",
       "      <td>4.525395e-01</td>\n",
       "      <td>15.165559</td>\n",
       "      <td>17</td>\n",
       "      <td>9</td>\n",
       "      <td>XGBRFRegressor(base_score=None, booster=None, ...</td>\n",
       "    </tr>\n",
       "    <tr>\n",
       "      <th>0</th>\n",
       "      <td>Jalen Hurts</td>\n",
       "      <td>396.82</td>\n",
       "      <td>404.776775</td>\n",
       "      <td>0.020051</td>\n",
       "      <td>7.228299e-01</td>\n",
       "      <td>7.899268</td>\n",
       "      <td>17</td>\n",
       "      <td>9</td>\n",
       "      <td>XGBRFRegressor(base_score=None, booster=None, ...</td>\n",
       "    </tr>\n",
       "    <tr>\n",
       "      <th>0</th>\n",
       "      <td>Tyreek Hill</td>\n",
       "      <td>382.70</td>\n",
       "      <td>370.771509</td>\n",
       "      <td>0.031169</td>\n",
       "      <td>8.294861e-01</td>\n",
       "      <td>14.149188</td>\n",
       "      <td>17</td>\n",
       "      <td>9</td>\n",
       "      <td>XGBRFRegressor(base_score=None, booster=None, ...</td>\n",
       "    </tr>\n",
       "    <tr>\n",
       "      <th>...</th>\n",
       "      <td>...</td>\n",
       "      <td>...</td>\n",
       "      <td>...</td>\n",
       "      <td>...</td>\n",
       "      <td>...</td>\n",
       "      <td>...</td>\n",
       "      <td>...</td>\n",
       "      <td>...</td>\n",
       "      <td>...</td>\n",
       "    </tr>\n",
       "    <tr>\n",
       "      <th>0</th>\n",
       "      <td>Michael Wilson</td>\n",
       "      <td>35.40</td>\n",
       "      <td>38.496643</td>\n",
       "      <td>0.087476</td>\n",
       "      <td>1.442219e+16</td>\n",
       "      <td>6.686770</td>\n",
       "      <td>5</td>\n",
       "      <td>5</td>\n",
       "      <td>XGBRFRegressor(base_score=None, booster=None, ...</td>\n",
       "    </tr>\n",
       "    <tr>\n",
       "      <th>0</th>\n",
       "      <td>Jaleel McLaughlin</td>\n",
       "      <td>33.00</td>\n",
       "      <td>33.517697</td>\n",
       "      <td>0.015688</td>\n",
       "      <td>2.289359e+00</td>\n",
       "      <td>3.554813</td>\n",
       "      <td>7</td>\n",
       "      <td>7</td>\n",
       "      <td>XGBRFRegressor(base_score=None, booster=None, ...</td>\n",
       "    </tr>\n",
       "    <tr>\n",
       "      <th>0</th>\n",
       "      <td>Easton Stick</td>\n",
       "      <td>29.92</td>\n",
       "      <td>36.209267</td>\n",
       "      <td>0.210203</td>\n",
       "      <td>2.630472e-01</td>\n",
       "      <td>4.387746</td>\n",
       "      <td>2</td>\n",
       "      <td>2</td>\n",
       "      <td>XGBRFRegressor(base_score=None, booster=None, ...</td>\n",
       "    </tr>\n",
       "    <tr>\n",
       "      <th>0</th>\n",
       "      <td>Tommy DeVito</td>\n",
       "      <td>13.38</td>\n",
       "      <td>57.086472</td>\n",
       "      <td>3.266552</td>\n",
       "      <td>2.856607e+16</td>\n",
       "      <td>15.258107</td>\n",
       "      <td>3</td>\n",
       "      <td>3</td>\n",
       "      <td>XGBRFRegressor(base_score=None, booster=None, ...</td>\n",
       "    </tr>\n",
       "    <tr>\n",
       "      <th>0</th>\n",
       "      <td>Anthony Richardson</td>\n",
       "      <td>4.42</td>\n",
       "      <td>20.697794</td>\n",
       "      <td>3.682759</td>\n",
       "      <td>3.682759e+00</td>\n",
       "      <td>16.277794</td>\n",
       "      <td>1</td>\n",
       "      <td>1</td>\n",
       "      <td>XGBRFRegressor(base_score=None, booster=None, ...</td>\n",
       "    </tr>\n",
       "  </tbody>\n",
       "</table>\n",
       "<p>180 rows × 9 columns</p>\n",
       "</div>"
      ],
      "text/plain": [
       "                 PLAYER  ACTUAL SEASON TOTAL   PREDICTED  SEASON MAPE  \\\n",
       "0            Josh Allen               430.64  433.622313     0.006925   \n",
       "0   Christian McCaffrey               412.20  360.181196     0.126198   \n",
       "0           CeeDee Lamb               405.20  243.686300     0.398602   \n",
       "0           Jalen Hurts               396.82  404.776775     0.020051   \n",
       "0           Tyreek Hill               382.70  370.771509     0.031169   \n",
       "..                  ...                  ...         ...          ...   \n",
       "0        Michael Wilson                35.40   38.496643     0.087476   \n",
       "0     Jaleel McLaughlin                33.00   33.517697     0.015688   \n",
       "0          Easton Stick                29.92   36.209267     0.210203   \n",
       "0          Tommy DeVito                13.38   57.086472     3.266552   \n",
       "0    Anthony Richardson                 4.42   20.697794     3.682759   \n",
       "\n",
       "       GAME MAPE  GAME RSME  GAMES PREDICTED  LAGS  \\\n",
       "0   2.257320e-01   7.065988               17     9   \n",
       "0   2.426095e-01   9.532918               17     9   \n",
       "0   4.525395e-01  15.165559               17     9   \n",
       "0   7.228299e-01   7.899268               17     9   \n",
       "0   8.294861e-01  14.149188               17     9   \n",
       "..           ...        ...              ...   ...   \n",
       "0   1.442219e+16   6.686770                5     5   \n",
       "0   2.289359e+00   3.554813                7     7   \n",
       "0   2.630472e-01   4.387746                2     2   \n",
       "0   2.856607e+16  15.258107                3     3   \n",
       "0   3.682759e+00  16.277794                1     1   \n",
       "\n",
       "                                            REGRESSOR  \n",
       "0   XGBRFRegressor(base_score=None, booster=None, ...  \n",
       "0   XGBRFRegressor(base_score=None, booster=None, ...  \n",
       "0   XGBRFRegressor(base_score=None, booster=None, ...  \n",
       "0   XGBRFRegressor(base_score=None, booster=None, ...  \n",
       "0   XGBRFRegressor(base_score=None, booster=None, ...  \n",
       "..                                                ...  \n",
       "0   XGBRFRegressor(base_score=None, booster=None, ...  \n",
       "0   XGBRFRegressor(base_score=None, booster=None, ...  \n",
       "0   XGBRFRegressor(base_score=None, booster=None, ...  \n",
       "0   XGBRFRegressor(base_score=None, booster=None, ...  \n",
       "0   XGBRFRegressor(base_score=None, booster=None, ...  \n",
       "\n",
       "[180 rows x 9 columns]"
      ]
     },
     "execution_count": 62,
     "metadata": {},
     "output_type": "execute_result"
    }
   ],
   "source": [
    "df_top_180.sort_values(by='ACTUAL SEASON TOTAL', ascending=False)"
   ]
  },
  {
   "cell_type": "code",
   "execution_count": 63,
   "metadata": {},
   "outputs": [
    {
     "data": {
      "text/plain": [
       "(0.32316806051163754, 8.55091955412107, 1338069591844644.0)"
      ]
     },
     "execution_count": 63,
     "metadata": {},
     "output_type": "execute_result"
    }
   ],
   "source": [
    "np.mean(df_top_180['SEASON MAPE']), np.mean(df_top_180['GAME RSME']), np.mean(df_top_180['GAME MAPE'])"
   ]
  },
  {
   "cell_type": "code",
   "execution_count": 64,
   "metadata": {},
   "outputs": [
    {
     "data": {
      "text/plain": [
       "60.29954432909588"
      ]
     },
     "execution_count": 64,
     "metadata": {},
     "output_type": "execute_result"
    }
   ],
   "source": [
    "np.sqrt(mean_squared_error(df_top_180['ACTUAL SEASON TOTAL'], df_top_180['PREDICTED']))"
   ]
  },
  {
   "cell_type": "code",
   "execution_count": 46,
   "metadata": {},
   "outputs": [],
   "source": [
    "# np.sqrt(mean_squared_error(df_top_180['ACTUAL SEASON TOTAL'], df_top_180['PREDICTED']))"
   ]
  },
  {
   "cell_type": "code",
   "execution_count": 47,
   "metadata": {},
   "outputs": [],
   "source": [
    "# top_180_pred = [\n",
    "# Predict(\n",
    "#     df=df, player=i, steps=17, regressor=GradientBoostingRegressor, lags=9\n",
    "# ).predict_season() for i in list(set(df['PLAYER']))\n",
    "# ]\n",
    "\n",
    "# clean_data = [row for row in top_180_pred if row is not None]"
   ]
  },
  {
   "cell_type": "code",
   "execution_count": 48,
   "metadata": {},
   "outputs": [],
   "source": [
    "# df_preds = pd.DataFrame(clean_data, columns=['PLAYER', 'PROJECTED POINTS'])"
   ]
  },
  {
   "cell_type": "code",
   "execution_count": 49,
   "metadata": {},
   "outputs": [],
   "source": [
    "# df_2023 = df.loc[df['YEAR']==2023]\n",
    "# df_players_2023 = df_2023.groupby(['PLAYER', 'TEAM'])['PPR'].sum().reset_index()\n",
    "# df_players_2023.rename(columns={'PPR':'PPR_2023'}, inplace=True)"
   ]
  },
  {
   "cell_type": "code",
   "execution_count": 50,
   "metadata": {},
   "outputs": [],
   "source": [
    "# df_adp = pd.read_csv('ADP_2024.csv')\n",
    "# df_adp['Position'] = df_adp['Consensus Pos'].str[:2]\n",
    "# df_adp['Target Round'] = (df_adp['Consensus'] // 10).astype(int) + 1"
   ]
  },
  {
   "cell_type": "code",
   "execution_count": 51,
   "metadata": {},
   "outputs": [],
   "source": [
    "# df_merge1 = pd.merge(df_players_2023, df_preds,  how='inner', on='PLAYER')"
   ]
  },
  {
   "cell_type": "code",
   "execution_count": 52,
   "metadata": {},
   "outputs": [],
   "source": [
    "# df_final = pd.merge(df_merge1, df_adp[['Player', 'Position', 'Consensus', 'Target Round']], left_on='PLAYER', right_on='Player', how='inner').drop(columns=['Player'])"
   ]
  },
  {
   "cell_type": "code",
   "execution_count": 53,
   "metadata": {},
   "outputs": [],
   "source": [
    "# ranked_values = {\n",
    "#     'QB': df_final[df_final['Position'] == 'QB'].nlargest(10, 'PROJECTED POINTS')['PROJECTED POINTS'].iloc[-1] if len(df_final[df_final['Position'] == 'QB']) >= 10 else df_final[df_final['Position'] == 'QB']['PROJECTED POINTS'].min(),\n",
    "#     'TE': df_final[df_final['Position'] == 'TE'].nlargest(10, 'PROJECTED POINTS')['PROJECTED POINTS'].iloc[-1] if len(df_final[df_final['Position'] == 'TE']) >= 10 else df_final[df_final['Position'] == 'TE']['PROJECTED POINTS'].min(),\n",
    "#     'WR': df_final[df_final['Position'] == 'WR'].nlargest(30, 'PROJECTED POINTS')['PROJECTED POINTS'].iloc[-1] if len(df_final[df_final['Position'] == 'WR']) >= 30 else df_final[df_final['Position'] == 'WR']['PROJECTED POINTS'].min(),\n",
    "#     'RB': df_final[df_final['Position'] == 'RB'].nlargest(20, 'PROJECTED POINTS')['PROJECTED POINTS'].iloc[-1] if len(df_final[df_final['Position'] == 'RB']) >= 20 else df_final[df_final['Position'] == 'RB']['PPROJECTED POINTS'].min()\n",
    "# }\n",
    "\n",
    "# # Print the ranked PPR values for debugging\n",
    "# print(\"Ranked PPR values:\")\n",
    "# print(ranked_values)"
   ]
  },
  {
   "cell_type": "code",
   "execution_count": 54,
   "metadata": {},
   "outputs": [],
   "source": [
    "# def VBD(row):\n",
    "#     category = row['Position']\n",
    "#     ranked_ppr = ranked_values.get(category, 0) \n",
    "#     return row['PROJECTED POINTS'] - ranked_ppr\n",
    "\n",
    "# # Apply the function to each row\n",
    "# df_final['VBD'] = df_final.apply(VBD, axis=1)\n"
   ]
  },
  {
   "cell_type": "code",
   "execution_count": 55,
   "metadata": {},
   "outputs": [],
   "source": [
    "# df_final['My Ranking'] = df_final['VBD'].rank(ascending=False, method='min').astype(int)\n",
    "# df_final.sort_values(by='VBD', ascending=False).head(25)"
   ]
  },
  {
   "cell_type": "code",
   "execution_count": 56,
   "metadata": {},
   "outputs": [],
   "source": [
    "# df_final.to_csv('Draft Strategy 2024.csv')"
   ]
  }
 ],
 "metadata": {
  "kernelspec": {
   "display_name": "ff_env",
   "language": "python",
   "name": "python3"
  },
  "language_info": {
   "codemirror_mode": {
    "name": "ipython",
    "version": 3
   },
   "file_extension": ".py",
   "mimetype": "text/x-python",
   "name": "python",
   "nbconvert_exporter": "python",
   "pygments_lexer": "ipython3",
   "version": "3.11.3"
  }
 },
 "nbformat": 4,
 "nbformat_minor": 2
}
